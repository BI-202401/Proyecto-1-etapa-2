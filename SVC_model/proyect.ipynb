{
 "cells": [
  {
   "cell_type": "markdown",
   "metadata": {},
   "source": [
    "# Proyecto 1 - etapa 2\n",
    "<h3>Natalia Ortega (sección 4), David Leon (sección 3) & Juan Camilo Mercado (sección 4)</h3>"
   ]
  },
  {
   "cell_type": "markdown",
   "metadata": {},
   "source": [
    "## 0. Carga de librerías y datos"
   ]
  },
  {
   "cell_type": "code",
   "execution_count": 1,
   "metadata": {},
   "outputs": [
    {
     "name": "stderr",
     "output_type": "stream",
     "text": [
      "C:\\Users\\CAMILO\\AppData\\Local\\Temp\\ipykernel_2580\\3471827481.py:1: DeprecationWarning: \n",
      "Pyarrow will become a required dependency of pandas in the next major release of pandas (pandas 3.0),\n",
      "(to allow more performant data types, such as the Arrow string type, and better interoperability with other libraries)\n",
      "but was not found to be installed on your system.\n",
      "If this would cause problems for you,\n",
      "please provide us feedback at https://github.com/pandas-dev/pandas/issues/54466\n",
      "        \n",
      "  import pandas as pd\n"
     ]
    }
   ],
   "source": [
    "import pandas as pd\n",
    "import matplotlib.pyplot as plt\n",
    "import seaborn as sns \n",
    "import sklearn as sklearn\n",
    "import numpy as np\n",
    "import nltk\n",
    "import random\n",
    "import statistics\n",
    "import string\n",
    "import unicodedata\n",
    "\n",
    "from nltk.stem import WordNetLemmatizer\n",
    "from nltk.stem import SnowballStemmer\n",
    "from nltk.corpus import stopwords\n",
    "from nltk.probability import *\n",
    "from nltk.tokenize import word_tokenize\n",
    "\n",
    "from scipy import stats as st\n",
    "\n",
    "from sklearn.svm import SVC\n",
    "from sklearn.feature_extraction.text import CountVectorizer\n",
    "from sklearn.model_selection import train_test_split\n",
    "from sklearn.feature_extraction.text import TfidfVectorizer\n",
    "from sklearn.metrics import classification_report\n",
    "\n",
    "\n",
    "from gensim.models import Word2Vec\n",
    "\n",
    "from sklearn.model_selection import train_test_split\n",
    "from sklearn.metrics import confusion_matrix, classification_report, precision_score, recall_score, f1_score\n",
    "from sklearn.metrics import ConfusionMatrixDisplay\n",
    "\n"
   ]
  },
  {
   "cell_type": "markdown",
   "metadata": {},
   "source": [
    "se descargan los módulos específicos de la librería nltk para poder procesar le texto de la mejor forma posible:"
   ]
  },
  {
   "cell_type": "code",
   "execution_count": 2,
   "metadata": {},
   "outputs": [
    {
     "name": "stderr",
     "output_type": "stream",
     "text": [
      "[nltk_data] Downloading package punkt to\n",
      "[nltk_data]     C:\\Users\\CAMILO\\AppData\\Roaming\\nltk_data...\n",
      "[nltk_data]   Package punkt is already up-to-date!\n",
      "[nltk_data] Downloading package stopwords to\n",
      "[nltk_data]     C:\\Users\\CAMILO\\AppData\\Roaming\\nltk_data...\n",
      "[nltk_data]   Package stopwords is already up-to-date!\n",
      "[nltk_data] Downloading package wordnet to\n",
      "[nltk_data]     C:\\Users\\CAMILO\\AppData\\Roaming\\nltk_data...\n",
      "[nltk_data]   Package wordnet is already up-to-date!\n"
     ]
    }
   ],
   "source": [
    "nltk.download('punkt');\n",
    "nltk.download('stopwords');\n",
    "nltk.download('wordnet');"
   ]
  },
  {
   "cell_type": "code",
   "execution_count": 3,
   "metadata": {},
   "outputs": [],
   "source": [
    "df = pd.read_csv('./data/tipo2_entrenamiento_estudiantes.csv', sep=',', encoding = 'utf-8')"
   ]
  },
  {
   "cell_type": "markdown",
   "metadata": {},
   "source": [
    "## 1. Entendimiento y preparación de datos"
   ]
  },
  {
   "cell_type": "markdown",
   "metadata": {},
   "source": [
    "### Entendimiento"
   ]
  },
  {
   "cell_type": "markdown",
   "metadata": {},
   "source": [
    "Con los datos de los actores de turismo leyendo el conjunto de datos correspondiente de reseñas de sitios turísticos, se procede a entender la estructura de los comentarios que estos nos presentan."
   ]
  },
  {
   "cell_type": "code",
   "execution_count": 4,
   "metadata": {},
   "outputs": [
    {
     "name": "stdout",
     "output_type": "stream",
     "text": [
      ">> Se puede observar que el df de entrenamiento contiene 7875 reseñas\n"
     ]
    }
   ],
   "source": [
    "print(f\">> Se puede observar que el df de entrenamiento contiene {df.shape[0]} reseñas\")"
   ]
  },
  {
   "cell_type": "markdown",
   "metadata": {},
   "source": [
    "Se observan que solo existen 2 columnas, una con la s¿reseña y otra con la calificación corrrespondiente, donde se identifica que no hay datos faltantes ni atípicos respecto al tipo de dato, pues la columna numérica peranece numérica."
   ]
  },
  {
   "cell_type": "code",
   "execution_count": 5,
   "metadata": {},
   "outputs": [
    {
     "name": "stdout",
     "output_type": "stream",
     "text": [
      "<class 'pandas.core.frame.DataFrame'>\n",
      "RangeIndex: 7875 entries, 0 to 7874\n",
      "Data columns (total 2 columns):\n",
      " #   Column  Non-Null Count  Dtype \n",
      "---  ------  --------------  ----- \n",
      " 0   Review  7875 non-null   object\n",
      " 1   Class   7875 non-null   int64 \n",
      "dtypes: int64(1), object(1)\n",
      "memory usage: 123.2+ KB\n"
     ]
    }
   ],
   "source": [
    "df.info()"
   ]
  },
  {
   "cell_type": "code",
   "execution_count": 6,
   "metadata": {},
   "outputs": [
    {
     "name": "stdout",
     "output_type": "stream",
     "text": [
      ">> El df se ve de la siguiente forma:\n"
     ]
    },
    {
     "data": {
      "text/html": [
       "<div>\n",
       "<style scoped>\n",
       "    .dataframe tbody tr th:only-of-type {\n",
       "        vertical-align: middle;\n",
       "    }\n",
       "\n",
       "    .dataframe tbody tr th {\n",
       "        vertical-align: top;\n",
       "    }\n",
       "\n",
       "    .dataframe thead th {\n",
       "        text-align: right;\n",
       "    }\n",
       "</style>\n",
       "<table border=\"1\" class=\"dataframe\">\n",
       "  <thead>\n",
       "    <tr style=\"text-align: right;\">\n",
       "      <th></th>\n",
       "      <th>Review</th>\n",
       "      <th>Class</th>\n",
       "    </tr>\n",
       "  </thead>\n",
       "  <tbody>\n",
       "    <tr>\n",
       "      <th>0</th>\n",
       "      <td>Muy buena atención y aclaración de dudas por p...</td>\n",
       "      <td>5</td>\n",
       "    </tr>\n",
       "    <tr>\n",
       "      <th>1</th>\n",
       "      <td>Buen hotel si están obligados a estar cerca de...</td>\n",
       "      <td>3</td>\n",
       "    </tr>\n",
       "    <tr>\n",
       "      <th>2</th>\n",
       "      <td>Es un lugar muy lindo para fotografías, visite...</td>\n",
       "      <td>5</td>\n",
       "    </tr>\n",
       "    <tr>\n",
       "      <th>3</th>\n",
       "      <td>Abusados con la factura de alimentos siempre s...</td>\n",
       "      <td>3</td>\n",
       "    </tr>\n",
       "    <tr>\n",
       "      <th>4</th>\n",
       "      <td>Tuvimos un par de personas en el grupo que rea...</td>\n",
       "      <td>3</td>\n",
       "    </tr>\n",
       "  </tbody>\n",
       "</table>\n",
       "</div>"
      ],
      "text/plain": [
       "                                              Review  Class\n",
       "0  Muy buena atención y aclaración de dudas por p...      5\n",
       "1  Buen hotel si están obligados a estar cerca de...      3\n",
       "2  Es un lugar muy lindo para fotografías, visite...      5\n",
       "3  Abusados con la factura de alimentos siempre s...      3\n",
       "4  Tuvimos un par de personas en el grupo que rea...      3"
      ]
     },
     "execution_count": 6,
     "metadata": {},
     "output_type": "execute_result"
    }
   ],
   "source": [
    "print(\">> El df se ve de la siguiente forma:\")\n",
    "df.head()"
   ]
  },
  {
   "cell_type": "markdown",
   "metadata": {},
   "source": [
    "Cada una de estas reseñas contiene una calificación de acuerdo al sentimiento que tuvo el turista al visitarlo, por lo que es importante ver las tendencias de calificaciones, y las tendencias de las reseñas."
   ]
  },
  {
   "cell_type": "markdown",
   "metadata": {},
   "source": [
    "Se observa que las reseñas varían en cantidad de palabras, donde hay palabras que se repiten y generan una moda, los cuales suelen ser palabras que no aportan valor al análisis (no son sustantivos, verbos o adjetivos). Se observa el uso de mayúsculas y minúsuculas para diferenciar entre diferentes tipos de palabras, per en este contexto no aporta al análisis."
   ]
  },
  {
   "cell_type": "code",
   "execution_count": 7,
   "metadata": {},
   "outputs": [
    {
     "data": {
      "text/html": [
       "<div>\n",
       "<style scoped>\n",
       "    .dataframe tbody tr th:only-of-type {\n",
       "        vertical-align: middle;\n",
       "    }\n",
       "\n",
       "    .dataframe tbody tr th {\n",
       "        vertical-align: top;\n",
       "    }\n",
       "\n",
       "    .dataframe thead th {\n",
       "        text-align: right;\n",
       "    }\n",
       "</style>\n",
       "<table border=\"1\" class=\"dataframe\">\n",
       "  <thead>\n",
       "    <tr style=\"text-align: right;\">\n",
       "      <th></th>\n",
       "      <th>Review</th>\n",
       "      <th>Class</th>\n",
       "      <th>Conteo</th>\n",
       "      <th>Palabras únicas</th>\n",
       "      <th>Max. de palabra</th>\n",
       "      <th>Min. de palabra</th>\n",
       "      <th>Moda</th>\n",
       "    </tr>\n",
       "  </thead>\n",
       "  <tbody>\n",
       "    <tr>\n",
       "      <th>0</th>\n",
       "      <td>Muy buena atención y aclaración de dudas por p...</td>\n",
       "      <td>5</td>\n",
       "      <td>252</td>\n",
       "      <td>28</td>\n",
       "      <td>20</td>\n",
       "      <td>0</td>\n",
       "      <td></td>\n",
       "    </tr>\n",
       "    <tr>\n",
       "      <th>1</th>\n",
       "      <td>Buen hotel si están obligados a estar cerca de...</td>\n",
       "      <td>3</td>\n",
       "      <td>297</td>\n",
       "      <td>34</td>\n",
       "      <td>13</td>\n",
       "      <td>1</td>\n",
       "      <td>de</td>\n",
       "    </tr>\n",
       "    <tr>\n",
       "      <th>2</th>\n",
       "      <td>Es un lugar muy lindo para fotografías, visite...</td>\n",
       "      <td>5</td>\n",
       "      <td>104</td>\n",
       "      <td>26</td>\n",
       "      <td>12</td>\n",
       "      <td>1</td>\n",
       "      <td>Es</td>\n",
       "    </tr>\n",
       "    <tr>\n",
       "      <th>3</th>\n",
       "      <td>Abusados con la factura de alimentos siempre s...</td>\n",
       "      <td>3</td>\n",
       "      <td>422</td>\n",
       "      <td>28</td>\n",
       "      <td>14</td>\n",
       "      <td>1</td>\n",
       "      <td>y</td>\n",
       "    </tr>\n",
       "    <tr>\n",
       "      <th>4</th>\n",
       "      <td>Tuvimos un par de personas en el grupo que rea...</td>\n",
       "      <td>3</td>\n",
       "      <td>419</td>\n",
       "      <td>35</td>\n",
       "      <td>14</td>\n",
       "      <td>1</td>\n",
       "      <td>el</td>\n",
       "    </tr>\n",
       "    <tr>\n",
       "      <th>...</th>\n",
       "      <td>...</td>\n",
       "      <td>...</td>\n",
       "      <td>...</td>\n",
       "      <td>...</td>\n",
       "      <td>...</td>\n",
       "      <td>...</td>\n",
       "      <td>...</td>\n",
       "    </tr>\n",
       "    <tr>\n",
       "      <th>7870</th>\n",
       "      <td>Me parece buen sistema, agiliza el transporte,...</td>\n",
       "      <td>4</td>\n",
       "      <td>113</td>\n",
       "      <td>24</td>\n",
       "      <td>11</td>\n",
       "      <td>2</td>\n",
       "      <td>el</td>\n",
       "    </tr>\n",
       "    <tr>\n",
       "      <th>7871</th>\n",
       "      <td>Fue una escapada de un día desde el complejo, ...</td>\n",
       "      <td>4</td>\n",
       "      <td>261</td>\n",
       "      <td>31</td>\n",
       "      <td>12</td>\n",
       "      <td>2</td>\n",
       "      <td>de</td>\n",
       "    </tr>\n",
       "    <tr>\n",
       "      <th>7872</th>\n",
       "      <td>La Plaza de la Revolución es un lugar emblemát...</td>\n",
       "      <td>3</td>\n",
       "      <td>777</td>\n",
       "      <td>43</td>\n",
       "      <td>14</td>\n",
       "      <td>1</td>\n",
       "      <td>de</td>\n",
       "    </tr>\n",
       "    <tr>\n",
       "      <th>7873</th>\n",
       "      <td>Es la segunda ocasión que me quedo en los cuar...</td>\n",
       "      <td>1</td>\n",
       "      <td>651</td>\n",
       "      <td>38</td>\n",
       "      <td>12</td>\n",
       "      <td>0</td>\n",
       "      <td>que</td>\n",
       "    </tr>\n",
       "    <tr>\n",
       "      <th>7874</th>\n",
       "      <td>Llegamos por casualidad a Los Mercaderes, un g...</td>\n",
       "      <td>5</td>\n",
       "      <td>252</td>\n",
       "      <td>28</td>\n",
       "      <td>11</td>\n",
       "      <td>1</td>\n",
       "      <td>a</td>\n",
       "    </tr>\n",
       "  </tbody>\n",
       "</table>\n",
       "<p>7875 rows × 7 columns</p>\n",
       "</div>"
      ],
      "text/plain": [
       "                                                 Review  Class  Conteo  \\\n",
       "0     Muy buena atención y aclaración de dudas por p...      5     252   \n",
       "1     Buen hotel si están obligados a estar cerca de...      3     297   \n",
       "2     Es un lugar muy lindo para fotografías, visite...      5     104   \n",
       "3     Abusados con la factura de alimentos siempre s...      3     422   \n",
       "4     Tuvimos un par de personas en el grupo que rea...      3     419   \n",
       "...                                                 ...    ...     ...   \n",
       "7870  Me parece buen sistema, agiliza el transporte,...      4     113   \n",
       "7871  Fue una escapada de un día desde el complejo, ...      4     261   \n",
       "7872  La Plaza de la Revolución es un lugar emblemát...      3     777   \n",
       "7873  Es la segunda ocasión que me quedo en los cuar...      1     651   \n",
       "7874  Llegamos por casualidad a Los Mercaderes, un g...      5     252   \n",
       "\n",
       "      Palabras únicas  Max. de palabra  Min. de palabra Moda  \n",
       "0                  28               20                0       \n",
       "1                  34               13                1   de  \n",
       "2                  26               12                1   Es  \n",
       "3                  28               14                1    y  \n",
       "4                  35               14                1   el  \n",
       "...               ...              ...              ...  ...  \n",
       "7870               24               11                2   el  \n",
       "7871               31               12                2   de  \n",
       "7872               43               14                1   de  \n",
       "7873               38               12                0  que  \n",
       "7874               28               11                1    a  \n",
       "\n",
       "[7875 rows x 7 columns]"
      ]
     },
     "execution_count": 7,
     "metadata": {},
     "output_type": "execute_result"
    }
   ],
   "source": [
    "textos = df.copy()\n",
    "textos['Conteo'] = [len(x) for x in textos['Review']]\n",
    "textos['Palabras únicas'] = [len(set(x)) for x in textos['Review']]\n",
    "textos['Max. de palabra'] = [[max([len(x) for x in i.split(' ')])][0] for i in textos['Review']]\n",
    "textos['Min. de palabra'] = [[min([len(x) for x in i.split(' ')])][0] for i in textos['Review']]\n",
    "textos['Moda'] = [statistics.mode(i.split(' ')) for i in textos['Review']]\n",
    "\n",
    "textos"
   ]
  },
  {
   "cell_type": "markdown",
   "metadata": {},
   "source": [
    "igualmente, se busca observar que las clases sean valores válidos y definidos (números enteros del 1 al 5). Además se busca observar su frecuencia para observar la cantidad de reseñas que tenemos como muestra de cada una de las clases correspondientes."
   ]
  },
  {
   "cell_type": "code",
   "execution_count": 8,
   "metadata": {},
   "outputs": [
    {
     "data": {
      "image/png": "[encoded data removed]",
      "text/plain": [
       "<Figure size 640x480 with 1 Axes>"
      ]
     },
     "metadata": {},
     "output_type": "display_data"
    }
   ],
   "source": [
    "sns.histplot(data=textos, x='Class', bins=range(1, 7), kde=False)\n",
    "plt.xlabel('Clase')\n",
    "plt.ylabel('Frequencia')\n",
    "plt.title('Histograma de Class')\n",
    "plt.xticks(range(1, 7))\n",
    "plt.show()"
   ]
  },
  {
   "cell_type": "markdown",
   "metadata": {},
   "source": [
    "Se observa que hay mayor número de comentarios de clase 5, y va disminuyendo la cantidad con su categoría, por lo que se sabe que la mayor confiabilidad del entrenamiento se dará con la clase 5, así sucesivamente hasta la clase 1 que tendrá la menor confiabilidad al contar con la menor cantidad de datos para realizar el análisis.\n",
    "\n",
    "Ahora bien, para darles significado, se muestran ejemplos de comentarios por clase para definir el significado de cada una."
   ]
  },
  {
   "cell_type": "code",
   "execution_count": 9,
   "metadata": {},
   "outputs": [
    {
     "data": {
      "text/html": [
       "<div>\n",
       "<style scoped>\n",
       "    .dataframe tbody tr th:only-of-type {\n",
       "        vertical-align: middle;\n",
       "    }\n",
       "\n",
       "    .dataframe tbody tr th {\n",
       "        vertical-align: top;\n",
       "    }\n",
       "\n",
       "    .dataframe thead th {\n",
       "        text-align: right;\n",
       "    }\n",
       "</style>\n",
       "<table border=\"1\" class=\"dataframe\">\n",
       "  <thead>\n",
       "    <tr style=\"text-align: right;\">\n",
       "      <th></th>\n",
       "      <th>Clase</th>\n",
       "      <th>Comentario</th>\n",
       "    </tr>\n",
       "  </thead>\n",
       "  <tbody>\n",
       "    <tr>\n",
       "      <th>4</th>\n",
       "      <td>1</td>\n",
       "      <td>Se equivocaron en la central de reservas y al llegar al hotel me cobraron más para poder alojarme  Una habitación con 3 recamaras y me pusieron solo un huésped 🤦🏽‍♂️  No tienen sentido común, acabe pagando por las otras 5.   O sea me engañaron 😡</td>\n",
       "    </tr>\n",
       "    <tr>\n",
       "      <th>3</th>\n",
       "      <td>2</td>\n",
       "      <td>Acabo de volver de Cuba. La primera semana en Tryp Habana libre y no puedo recomendar que a nadie. La primera imagen en el vestíbulo estaba bastante bien pero cuando salimos del ascensor en el piso, no pudimos evitar el olor a moho. Tras par de noche había una enorme fuga de agua en el baño y tuvimos que cambiar de habitación. La segunda habitación era tan fría que teníamos que llevar cordero grillada calcetines de lana y un suéter mientras duerme. Los recepcionistas eran todos antipático. El desayuno estaba bien, pero el piso 25 club nocturno terrible con banda ruidosa y mala. No bañados por ir a este hotel, que debe ser renovada completamente. Algo bueno? La vista ...</td>\n",
       "    </tr>\n",
       "    <tr>\n",
       "      <th>1</th>\n",
       "      <td>3</td>\n",
       "      <td>Buen hotel si están obligados a estar cerca del centro de convenciones, pero el restaurante necesita mejorar! Frío y café flojo - y - un montón de pan de personas que sirve unos uderstanding de bu lo que significa un servicio. En este barrio con tan pocas opciones - debería ser un hotel especial.</td>\n",
       "    </tr>\n",
       "    <tr>\n",
       "      <th>2</th>\n",
       "      <td>4</td>\n",
       "      <td>Un complejo enorme de fortificaciones frente al antiguo de La Habana. Visité en un día cuando el otro lado del castillo era trincadas con agua elevándose a 20 metros o más desde el mar.</td>\n",
       "    </tr>\n",
       "    <tr>\n",
       "      <th>0</th>\n",
       "      <td>5</td>\n",
       "      <td>Muy buena atención y aclaración de dudas por parte de la señorita Verónica castillo, atenta y amable en cuestión laborable.  Ideal para descansar muy buenas habitaciónes, limpieza, ordenadas.  Buena comida de parte del restaurante,variedad en comidas</td>\n",
       "    </tr>\n",
       "  </tbody>\n",
       "</table>\n",
       "</div>"
      ],
      "text/plain": [
       "   Clase  \\\n",
       "4      1   \n",
       "3      2   \n",
       "1      3   \n",
       "2      4   \n",
       "0      5   \n",
       "\n",
       "                                                                                                                                                                                                                                                                                                                                                                                                                                                                                                                                                                                                                                                                                               Comentario  \n",
       "4                                                                                                                                                                                                                                                                                                                                                                                                                                                   Se equivocaron en la central de reservas y al llegar al hotel me cobraron más para poder alojarme  Una habitación con 3 recamaras y me pusieron solo un huésped 🤦🏽‍♂️  No tienen sentido común, acabe pagando por las otras 5.   O sea me engañaron 😡  \n",
       "3  Acabo de volver de Cuba. La primera semana en Tryp Habana libre y no puedo recomendar que a nadie. La primera imagen en el vestíbulo estaba bastante bien pero cuando salimos del ascensor en el piso, no pudimos evitar el olor a moho. Tras par de noche había una enorme fuga de agua en el baño y tuvimos que cambiar de habitación. La segunda habitación era tan fría que teníamos que llevar cordero grillada calcetines de lana y un suéter mientras duerme. Los recepcionistas eran todos antipático. El desayuno estaba bien, pero el piso 25 club nocturno terrible con banda ruidosa y mala. No bañados por ir a este hotel, que debe ser renovada completamente. Algo bueno? La vista ...  \n",
       "1                                                                                                                                                                                                                                                                                                                                                                                               Buen hotel si están obligados a estar cerca del centro de convenciones, pero el restaurante necesita mejorar! Frío y café flojo - y - un montón de pan de personas que sirve unos uderstanding de bu lo que significa un servicio. En este barrio con tan pocas opciones - debería ser un hotel especial.  \n",
       "2                                                                                                                                                                                                                                                                                                                                                                                                                                                                                                               Un complejo enorme de fortificaciones frente al antiguo de La Habana. Visité en un día cuando el otro lado del castillo era trincadas con agua elevándose a 20 metros o más desde el mar.  \n",
       "0                                                                                                                                                                                                                                                                                                                                                                                                                                            Muy buena atención y aclaración de dudas por parte de la señorita Verónica castillo, atenta y amable en cuestión laborable.  Ideal para descansar muy buenas habitaciónes, limpieza, ordenadas.  Buena comida de parte del restaurante,variedad en comidas    "
      ]
     },
     "execution_count": 9,
     "metadata": {},
     "output_type": "execute_result"
    }
   ],
   "source": [
    "pd.set_option('display.max_colwidth', None)\n",
    "\n",
    "clases_muestra = df['Class'].unique()\n",
    "comentarios_muestra = []\n",
    "for clase in clases_muestra:\n",
    "    comentario = df[df['Class'] == clase]['Review'].iloc[0]\n",
    "    comentarios_muestra.append(comentario)\n",
    "tabla_muestra = pd.DataFrame({'Clase': clases_muestra, 'Comentario': comentarios_muestra})\n",
    "tabla_muestra.sort_values('Clase', inplace=True)\n",
    "\n",
    "tabla_muestra\n"
   ]
  },
  {
   "cell_type": "markdown",
   "metadata": {},
   "source": [
    "Se observa que en este contexto los comentarios con clase 5 son aquellos de mayor positividad y gratitud, seguidos de la clase 4 que muestra positividad moderada pero notable. Los comentarios de clase 3 son aquellos que se muestran entre neutrales y buenos en su opinión,seguidos por la clase 2 que muestra tener comentarios negativos o levemente negativos, y finalmente, la clase 1 que muestra total desagrado con la experiencia."
   ]
  },
  {
   "cell_type": "markdown",
   "metadata": {},
   "source": [
    "Igualmente, se busca obtener las medidas de tendencia central para cada uno de los grupos de análisis de los comentarios, para observar el promedio de la longitud de los comentarios y las palabras únicas, qué tanto varían estas cantidades con la desviación estándar, cual es el máximo número de palabras únicas que existe y el mínimo. Esto será importante para observar cómo se puede comportar la lemantización futura de estas palabras."
   ]
  },
  {
   "cell_type": "code",
   "execution_count": 10,
   "metadata": {},
   "outputs": [
    {
     "data": {
      "text/html": [
       "<div>\n",
       "<style scoped>\n",
       "    .dataframe tbody tr th:only-of-type {\n",
       "        vertical-align: middle;\n",
       "    }\n",
       "\n",
       "    .dataframe tbody tr th {\n",
       "        vertical-align: top;\n",
       "    }\n",
       "\n",
       "    .dataframe thead th {\n",
       "        text-align: right;\n",
       "    }\n",
       "</style>\n",
       "<table border=\"1\" class=\"dataframe\">\n",
       "  <thead>\n",
       "    <tr style=\"text-align: right;\">\n",
       "      <th></th>\n",
       "      <th>Class</th>\n",
       "      <th>Conteo</th>\n",
       "      <th>Palabras únicas</th>\n",
       "      <th>Max. de palabra</th>\n",
       "      <th>Min. de palabra</th>\n",
       "    </tr>\n",
       "  </thead>\n",
       "  <tbody>\n",
       "    <tr>\n",
       "      <th>count</th>\n",
       "      <td>7875.000000</td>\n",
       "      <td>7875.000000</td>\n",
       "      <td>7875.000000</td>\n",
       "      <td>7875.000000</td>\n",
       "      <td>7875.000000</td>\n",
       "    </tr>\n",
       "    <tr>\n",
       "      <th>mean</th>\n",
       "      <td>3.502603</td>\n",
       "      <td>408.050413</td>\n",
       "      <td>33.117714</td>\n",
       "      <td>13.145778</td>\n",
       "      <td>0.858413</td>\n",
       "    </tr>\n",
       "    <tr>\n",
       "      <th>std</th>\n",
       "      <td>1.320435</td>\n",
       "      <td>474.145795</td>\n",
       "      <td>7.896652</td>\n",
       "      <td>2.930502</td>\n",
       "      <td>0.515585</td>\n",
       "    </tr>\n",
       "    <tr>\n",
       "      <th>min</th>\n",
       "      <td>1.000000</td>\n",
       "      <td>9.000000</td>\n",
       "      <td>9.000000</td>\n",
       "      <td>4.000000</td>\n",
       "      <td>0.000000</td>\n",
       "    </tr>\n",
       "    <tr>\n",
       "      <th>25%</th>\n",
       "      <td>3.000000</td>\n",
       "      <td>196.000000</td>\n",
       "      <td>28.000000</td>\n",
       "      <td>11.000000</td>\n",
       "      <td>1.000000</td>\n",
       "    </tr>\n",
       "    <tr>\n",
       "      <th>50%</th>\n",
       "      <td>4.000000</td>\n",
       "      <td>269.000000</td>\n",
       "      <td>31.000000</td>\n",
       "      <td>13.000000</td>\n",
       "      <td>1.000000</td>\n",
       "    </tr>\n",
       "    <tr>\n",
       "      <th>75%</th>\n",
       "      <td>5.000000</td>\n",
       "      <td>488.000000</td>\n",
       "      <td>37.000000</td>\n",
       "      <td>14.000000</td>\n",
       "      <td>1.000000</td>\n",
       "    </tr>\n",
       "    <tr>\n",
       "      <th>max</th>\n",
       "      <td>5.000000</td>\n",
       "      <td>10403.000000</td>\n",
       "      <td>80.000000</td>\n",
       "      <td>76.000000</td>\n",
       "      <td>5.000000</td>\n",
       "    </tr>\n",
       "  </tbody>\n",
       "</table>\n",
       "</div>"
      ],
      "text/plain": [
       "             Class        Conteo  Palabras únicas  Max. de palabra  \\\n",
       "count  7875.000000   7875.000000      7875.000000      7875.000000   \n",
       "mean      3.502603    408.050413        33.117714        13.145778   \n",
       "std       1.320435    474.145795         7.896652         2.930502   \n",
       "min       1.000000      9.000000         9.000000         4.000000   \n",
       "25%       3.000000    196.000000        28.000000        11.000000   \n",
       "50%       4.000000    269.000000        31.000000        13.000000   \n",
       "75%       5.000000    488.000000        37.000000        14.000000   \n",
       "max       5.000000  10403.000000        80.000000        76.000000   \n",
       "\n",
       "       Min. de palabra  \n",
       "count      7875.000000  \n",
       "mean          0.858413  \n",
       "std           0.515585  \n",
       "min           0.000000  \n",
       "25%           1.000000  \n",
       "50%           1.000000  \n",
       "75%           1.000000  \n",
       "max           5.000000  "
      ]
     },
     "execution_count": 10,
     "metadata": {},
     "output_type": "execute_result"
    }
   ],
   "source": [
    "textos.describe()"
   ]
  },
  {
   "cell_type": "markdown",
   "metadata": {},
   "source": [
    "Asimismo, se busca obsrvar un ejemplo de un comentario para ver cómo se distribuyen sus palabras y su frecuencia, igualmente para observar la influencia d caracteres como espacios, comas, tíldes u otros caracteres que puedan entorpecer el entendimiento del comentario para el algoritmo."
   ]
  },
  {
   "cell_type": "code",
   "execution_count": 11,
   "metadata": {},
   "outputs": [
    {
     "data": {
      "image/png": "[encoded data removed]",
      "text/plain": [
       "<Figure size 640x480 with 1 Axes>"
      ]
     },
     "metadata": {},
     "output_type": "display_data"
    },
    {
     "data": {
      "text/plain": [
       "<Axes: xlabel='Samples', ylabel='Counts'>"
      ]
     },
     "execution_count": 11,
     "metadata": {},
     "output_type": "execute_result"
    }
   ],
   "source": [
    "fdist = FreqDist(df['Review'][random.randint(0, df.shape[0])].split(' '))\n",
    "fdist.plot(30, cumulative = False)"
   ]
  },
  {
   "cell_type": "markdown",
   "metadata": {},
   "source": [
    "Viendo que es evidente la influencia de los caracteres especiales en los comentarios se procede a hacer la limpieza de datos por lo que, como primer paso, se  hace la tokenización de los comentarios."
   ]
  },
  {
   "cell_type": "markdown",
   "metadata": {},
   "source": [
    "### Segmentación de palabras (tokenización)"
   ]
  },
  {
   "cell_type": "markdown",
   "metadata": {},
   "source": [
    "La tokenización se realiza para convertir el texto en una forma que pueda ser procesada por algoritmos de ML. Al dividir el texto en tokens, se crea una representación estructurada que permite al algoritmo comprender y analizar el contenido del texto de manera más efectiva.\n",
    "\n",
    "En este caso se hace tokenización basada en palabras. Este enfoque divide el texto en palabras individuales. Utiliza espacios en blanco y signos de puntuación como delimitadores para identificar las palabras."
   ]
  },
  {
   "cell_type": "code",
   "execution_count": 12,
   "metadata": {},
   "outputs": [],
   "source": [
    "def tokenize(data: pd.DataFrame):\n",
    "    data['Words'] = data['Review'].apply(word_tokenize)\n",
    "    return data"
   ]
  },
  {
   "cell_type": "code",
   "execution_count": 13,
   "metadata": {},
   "outputs": [
    {
     "data": {
      "text/html": [
       "<div>\n",
       "<style scoped>\n",
       "    .dataframe tbody tr th:only-of-type {\n",
       "        vertical-align: middle;\n",
       "    }\n",
       "\n",
       "    .dataframe tbody tr th {\n",
       "        vertical-align: top;\n",
       "    }\n",
       "\n",
       "    .dataframe thead th {\n",
       "        text-align: right;\n",
       "    }\n",
       "</style>\n",
       "<table border=\"1\" class=\"dataframe\">\n",
       "  <thead>\n",
       "    <tr style=\"text-align: right;\">\n",
       "      <th></th>\n",
       "      <th>Review</th>\n",
       "      <th>Class</th>\n",
       "      <th>Words</th>\n",
       "    </tr>\n",
       "  </thead>\n",
       "  <tbody>\n",
       "    <tr>\n",
       "      <th>0</th>\n",
       "      <td>Muy buena atención y aclaración de dudas por parte de la señorita Verónica castillo, atenta y amable en cuestión laborable.  Ideal para descansar muy buenas habitaciónes, limpieza, ordenadas.  Buena comida de parte del restaurante,variedad en comidas</td>\n",
       "      <td>5</td>\n",
       "      <td>[Muy, buena, atención, y, aclaración, de, dudas, por, parte, de, la, señorita, Verónica, castillo, ,, atenta, y, amable, en, cuestión, laborable, ., Ideal, para, descansar, muy, buenas, habitaciónes, ,, limpieza, ,, ordenadas, ., Buena, comida, de, parte, del, restaurante, ,, variedad, en, comidas]</td>\n",
       "    </tr>\n",
       "    <tr>\n",
       "      <th>1</th>\n",
       "      <td>Buen hotel si están obligados a estar cerca del centro de convenciones, pero el restaurante necesita mejorar! Frío y café flojo - y - un montón de pan de personas que sirve unos uderstanding de bu lo que significa un servicio. En este barrio con tan pocas opciones - debería ser un hotel especial.</td>\n",
       "      <td>3</td>\n",
       "      <td>[Buen, hotel, si, están, obligados, a, estar, cerca, del, centro, de, convenciones, ,, pero, el, restaurante, necesita, mejorar, !, Frío, y, café, flojo, -, y, -, un, montón, de, pan, de, personas, que, sirve, unos, uderstanding, de, bu, lo, que, significa, un, servicio, ., En, este, barrio, con, tan, pocas, opciones, -, debería, ser, un, hotel, especial, .]</td>\n",
       "    </tr>\n",
       "    <tr>\n",
       "      <th>2</th>\n",
       "      <td>Es un lugar muy lindo para fotografías, visiten Selina, música en vivo, cerveza artesanal y buena comida</td>\n",
       "      <td>5</td>\n",
       "      <td>[Es, un, lugar, muy, lindo, para, fotografías, ,, visiten, Selina, ,, música, en, vivo, ,, cerveza, artesanal, y, buena, comida]</td>\n",
       "    </tr>\n",
       "    <tr>\n",
       "      <th>3</th>\n",
       "      <td>Abusados con la factura de alimentos siempre se echan la culpa unos a otros van y buscan el rfc que les proporcionaste por que independisan la base que ya tienen registrada en alimentos con la base del check in y ya pasaron 3 dias y aun nadade mi factura aunque hables de larga distancia y queden formalmente fe enviartela en un momento no es asi mañana otra vez voy a tener que hablar y para colmo ni el ticket me dieron.</td>\n",
       "      <td>3</td>\n",
       "      <td>[Abusados, con, la, factura, de, alimentos, siempre, se, echan, la, culpa, unos, a, otros, van, y, buscan, el, rfc, que, les, proporcionaste, por, que, independisan, la, base, que, ya, tienen, registrada, en, alimentos, con, la, base, del, check, in, y, ya, pasaron, 3, dias, y, aun, nadade, mi, factura, aunque, hables, de, larga, distancia, y, queden, formalmente, fe, enviartela, en, un, momento, no, es, asi, mañana, otra, vez, voy, a, tener, que, hablar, y, para, colmo, ni, el, ticket, me, dieron, .]</td>\n",
       "    </tr>\n",
       "    <tr>\n",
       "      <th>4</th>\n",
       "      <td>Tuvimos un par de personas en el grupo que realmente queríamos comer cabrito, el resto de nosotros eran buenas con probarla. Servicio empezó realmente bien, hasta que llegamos a situar nuestros pedidos. Cuando le preguntamos acerca de cómo agregar o sustituir elementos el camarero casi...parecía molestarle y claro qué y cómo lo ve en el menú es la única opción. Aparte de eso, la comida y el ambiente donde genial!Más</td>\n",
       "      <td>3</td>\n",
       "      <td>[Tuvimos, un, par, de, personas, en, el, grupo, que, realmente, queríamos, comer, cabrito, ,, el, resto, de, nosotros, eran, buenas, con, probarla, ., Servicio, empezó, realmente, bien, ,, hasta, que, llegamos, a, situar, nuestros, pedidos, ., Cuando, le, preguntamos, acerca, de, cómo, agregar, o, sustituir, elementos, el, camarero, casi, ..., parecía, molestarle, y, claro, qué, y, cómo, lo, ve, en, el, menú, es, la, única, opción, ., Aparte, de, eso, ,, la, comida, y, el, ambiente, donde, genial, !, Más]</td>\n",
       "    </tr>\n",
       "  </tbody>\n",
       "</table>\n",
       "</div>"
      ],
      "text/plain": [
       "                                                                                                                                                                                                                                                                                                                                                                                                                                   Review  \\\n",
       "0                                                                                                                                                                            Muy buena atención y aclaración de dudas por parte de la señorita Verónica castillo, atenta y amable en cuestión laborable.  Ideal para descansar muy buenas habitaciónes, limpieza, ordenadas.  Buena comida de parte del restaurante,variedad en comidas     \n",
       "1                                                                                                                               Buen hotel si están obligados a estar cerca del centro de convenciones, pero el restaurante necesita mejorar! Frío y café flojo - y - un montón de pan de personas que sirve unos uderstanding de bu lo que significa un servicio. En este barrio con tan pocas opciones - debería ser un hotel especial.   \n",
       "2                                                                                                                                                                                                                                                                                                                                Es un lugar muy lindo para fotografías, visiten Selina, música en vivo, cerveza artesanal y buena comida   \n",
       "3  Abusados con la factura de alimentos siempre se echan la culpa unos a otros van y buscan el rfc que les proporcionaste por que independisan la base que ya tienen registrada en alimentos con la base del check in y ya pasaron 3 dias y aun nadade mi factura aunque hables de larga distancia y queden formalmente fe enviartela en un momento no es asi mañana otra vez voy a tener que hablar y para colmo ni el ticket me dieron.   \n",
       "4     Tuvimos un par de personas en el grupo que realmente queríamos comer cabrito, el resto de nosotros eran buenas con probarla. Servicio empezó realmente bien, hasta que llegamos a situar nuestros pedidos. Cuando le preguntamos acerca de cómo agregar o sustituir elementos el camarero casi...parecía molestarle y claro qué y cómo lo ve en el menú es la única opción. Aparte de eso, la comida y el ambiente donde genial!Más   \n",
       "\n",
       "   Class  \\\n",
       "0      5   \n",
       "1      3   \n",
       "2      5   \n",
       "3      3   \n",
       "4      3   \n",
       "\n",
       "                                                                                                                                                                                                                                                                                                                                                                                                                                                                                                                            Words  \n",
       "0                                                                                                                                                                                                                     [Muy, buena, atención, y, aclaración, de, dudas, por, parte, de, la, señorita, Verónica, castillo, ,, atenta, y, amable, en, cuestión, laborable, ., Ideal, para, descansar, muy, buenas, habitaciónes, ,, limpieza, ,, ordenadas, ., Buena, comida, de, parte, del, restaurante, ,, variedad, en, comidas]  \n",
       "1                                                                                                                                                        [Buen, hotel, si, están, obligados, a, estar, cerca, del, centro, de, convenciones, ,, pero, el, restaurante, necesita, mejorar, !, Frío, y, café, flojo, -, y, -, un, montón, de, pan, de, personas, que, sirve, unos, uderstanding, de, bu, lo, que, significa, un, servicio, ., En, este, barrio, con, tan, pocas, opciones, -, debería, ser, un, hotel, especial, .]  \n",
       "2                                                                                                                                                                                                                                                                                                                                                                                                [Es, un, lugar, muy, lindo, para, fotografías, ,, visiten, Selina, ,, música, en, vivo, ,, cerveza, artesanal, y, buena, comida]  \n",
       "3      [Abusados, con, la, factura, de, alimentos, siempre, se, echan, la, culpa, unos, a, otros, van, y, buscan, el, rfc, que, les, proporcionaste, por, que, independisan, la, base, que, ya, tienen, registrada, en, alimentos, con, la, base, del, check, in, y, ya, pasaron, 3, dias, y, aun, nadade, mi, factura, aunque, hables, de, larga, distancia, y, queden, formalmente, fe, enviartela, en, un, momento, no, es, asi, mañana, otra, vez, voy, a, tener, que, hablar, y, para, colmo, ni, el, ticket, me, dieron, .]  \n",
       "4  [Tuvimos, un, par, de, personas, en, el, grupo, que, realmente, queríamos, comer, cabrito, ,, el, resto, de, nosotros, eran, buenas, con, probarla, ., Servicio, empezó, realmente, bien, ,, hasta, que, llegamos, a, situar, nuestros, pedidos, ., Cuando, le, preguntamos, acerca, de, cómo, agregar, o, sustituir, elementos, el, camarero, casi, ..., parecía, molestarle, y, claro, qué, y, cómo, lo, ve, en, el, menú, es, la, única, opción, ., Aparte, de, eso, ,, la, comida, y, el, ambiente, donde, genial, !, Más]  "
      ]
     },
     "execution_count": 13,
     "metadata": {},
     "output_type": "execute_result"
    }
   ],
   "source": [
    "token_df = df.copy()\n",
    "tokenize(token_df)\n",
    "token_df.head()"
   ]
  },
  {
   "cell_type": "markdown",
   "metadata": {},
   "source": [
    "### Limpieza de datos (StopWords) y análisis lexicográfico"
   ]
  },
  {
   "cell_type": "markdown",
   "metadata": {},
   "source": [
    "Como se observa, existen tokens que entorpecen el entendimiento de las palabras, como lo son los denominados stopwprds, los cuales son palabras comunes que se consideran irrelevantes para el análisis de texto debido a su alta frecuencia de aparición en un lenguaje determinado. Estas palabras, como \"el\", \"la\", \"y\", \"a\", \"de\", entre otras, no aportan información significativa para el análisis de texto y suelen ser eliminadas o ignoradas en tareas de procesamiento de lenguaje natural, por esto se hace el tratamiento respectivo para eliminarlas de los tokens con la clase TextProcessor, cyos objetos serán capaces que preprocesar los datos, pues, hará conversión en minúsculas, removerá caracteres especiales y signos de puntuación y finalmente hará la extracción de los lemas de las palabras para que lo importante sea su significado y no su forma gramatical.\n"
   ]
  },
  {
   "cell_type": "code",
   "execution_count": 14,
   "metadata": {},
   "outputs": [],
   "source": [
    "class TextProcessor:\n",
    "    def __init__(self):\n",
    "        self.stop_words = set(stopwords.words('spanish'))\n",
    "        self.lemmatizer = WordNetLemmatizer()\n",
    "        self.stemmer = SnowballStemmer('spanish')\n",
    "        self.punctuation = string.punctuation\n",
    "\n",
    "    def to_lowercase(self, texto):\n",
    "        return [word.lower() for word in texto]\n",
    "\n",
    "    def remove_punctuation(self, texto):\n",
    "        return [word for word in texto if word not in self.punctuation]\n",
    "\n",
    "    def remove_triple_punctuation(self, texto):\n",
    "        return [word for word in texto if word != '...']\n",
    "\n",
    "    def remove_stopwords(self, texto):\n",
    "        return [word for word in texto if word not in self.stop_words]\n",
    "\n",
    "    def lemmatize(self, texto):\n",
    "        return [self.lemmatizer.lemmatize(word) for word in texto]\n",
    "\n",
    "    def stem(self, texto):\n",
    "        return [self.stemmer.stem(word) for word in texto]\n",
    "\n",
    "    def remove_non_ascii(self, texto):\n",
    "        return [unicodedata.normalize('NFKD', word).encode('ascii', 'ignore').decode('utf-8', 'ignore') for word in texto]\n",
    "\n",
    "    def preprocess(self, texto):\n",
    "        texto = self.to_lowercase(texto)\n",
    "        texto = self.remove_punctuation(texto)\n",
    "        texto = self.remove_triple_punctuation(texto)\n",
    "        texto = self.remove_stopwords(texto)\n",
    "        texto = self.lemmatize(texto)\n",
    "        texto = self.stem(texto)\n",
    "        texto = self.remove_non_ascii(texto)\n",
    "        return texto\n",
    "    \n",
    "def clean_process(data: pd.DataFrame):\n",
    "    processor = TextProcessor()\n",
    "    data['Stemmed words'] = [processor.preprocess(text) for text in data['Words']]\n",
    "    return data"
   ]
  },
  {
   "cell_type": "markdown",
   "metadata": {},
   "source": [
    "Ahora se hará la conversión respectiva con un objeto de la clase construida:"
   ]
  },
  {
   "cell_type": "code",
   "execution_count": 15,
   "metadata": {},
   "outputs": [
    {
     "data": {
      "text/html": [
       "<div>\n",
       "<style scoped>\n",
       "    .dataframe tbody tr th:only-of-type {\n",
       "        vertical-align: middle;\n",
       "    }\n",
       "\n",
       "    .dataframe tbody tr th {\n",
       "        vertical-align: top;\n",
       "    }\n",
       "\n",
       "    .dataframe thead th {\n",
       "        text-align: right;\n",
       "    }\n",
       "</style>\n",
       "<table border=\"1\" class=\"dataframe\">\n",
       "  <thead>\n",
       "    <tr style=\"text-align: right;\">\n",
       "      <th></th>\n",
       "      <th>Review</th>\n",
       "      <th>Class</th>\n",
       "      <th>Words</th>\n",
       "      <th>Stemmed words</th>\n",
       "    </tr>\n",
       "  </thead>\n",
       "  <tbody>\n",
       "    <tr>\n",
       "      <th>0</th>\n",
       "      <td>Muy buena atención y aclaración de dudas por parte de la señorita Verónica castillo, atenta y amable en cuestión laborable.  Ideal para descansar muy buenas habitaciónes, limpieza, ordenadas.  Buena comida de parte del restaurante,variedad en comidas</td>\n",
       "      <td>5</td>\n",
       "      <td>[Muy, buena, atención, y, aclaración, de, dudas, por, parte, de, la, señorita, Verónica, castillo, ,, atenta, y, amable, en, cuestión, laborable, ., Ideal, para, descansar, muy, buenas, habitaciónes, ,, limpieza, ,, ordenadas, ., Buena, comida, de, parte, del, restaurante, ,, variedad, en, comidas]</td>\n",
       "      <td>[buen, atencion, aclar, dud, part, senorit, veron, castill, atent, amabl, cuestion, labor, ideal, descans, buen, habitacion, limpiez, orden, buen, com, part, restaur, varied, com]</td>\n",
       "    </tr>\n",
       "    <tr>\n",
       "      <th>1</th>\n",
       "      <td>Buen hotel si están obligados a estar cerca del centro de convenciones, pero el restaurante necesita mejorar! Frío y café flojo - y - un montón de pan de personas que sirve unos uderstanding de bu lo que significa un servicio. En este barrio con tan pocas opciones - debería ser un hotel especial.</td>\n",
       "      <td>3</td>\n",
       "      <td>[Buen, hotel, si, están, obligados, a, estar, cerca, del, centro, de, convenciones, ,, pero, el, restaurante, necesita, mejorar, !, Frío, y, café, flojo, -, y, -, un, montón, de, pan, de, personas, que, sirve, unos, uderstanding, de, bu, lo, que, significa, un, servicio, ., En, este, barrio, con, tan, pocas, opciones, -, debería, ser, un, hotel, especial, .]</td>\n",
       "      <td>[buen, hotel, si, oblig, cerc, centr, convencion, restaur, necesit, mejor, fri, caf, floj, monton, pan, person, sirv, uderstanding, bu, signif, servici, barri, tan, poc, opcion, deb, ser, hotel, especial]</td>\n",
       "    </tr>\n",
       "    <tr>\n",
       "      <th>2</th>\n",
       "      <td>Es un lugar muy lindo para fotografías, visiten Selina, música en vivo, cerveza artesanal y buena comida</td>\n",
       "      <td>5</td>\n",
       "      <td>[Es, un, lugar, muy, lindo, para, fotografías, ,, visiten, Selina, ,, música, en, vivo, ,, cerveza, artesanal, y, buena, comida]</td>\n",
       "      <td>[lug, lind, fotograf, visit, selin, music, viv, cervez, artesanal, buen, com]</td>\n",
       "    </tr>\n",
       "    <tr>\n",
       "      <th>3</th>\n",
       "      <td>Abusados con la factura de alimentos siempre se echan la culpa unos a otros van y buscan el rfc que les proporcionaste por que independisan la base que ya tienen registrada en alimentos con la base del check in y ya pasaron 3 dias y aun nadade mi factura aunque hables de larga distancia y queden formalmente fe enviartela en un momento no es asi mañana otra vez voy a tener que hablar y para colmo ni el ticket me dieron.</td>\n",
       "      <td>3</td>\n",
       "      <td>[Abusados, con, la, factura, de, alimentos, siempre, se, echan, la, culpa, unos, a, otros, van, y, buscan, el, rfc, que, les, proporcionaste, por, que, independisan, la, base, que, ya, tienen, registrada, en, alimentos, con, la, base, del, check, in, y, ya, pasaron, 3, dias, y, aun, nadade, mi, factura, aunque, hables, de, larga, distancia, y, queden, formalmente, fe, enviartela, en, un, momento, no, es, asi, mañana, otra, vez, voy, a, tener, que, hablar, y, para, colmo, ni, el, ticket, me, dieron, .]</td>\n",
       "      <td>[abus, factur, aliment, siempr, echan, culp, van, busc, rfc, proporcion, independis, bas, registr, aliment, bas, check, in, pas, 3, dia, aun, nadad, factur, aunqu, habl, larg, distanci, qued, formal, fe, enviartel, moment, asi, manan, vez, voy, ten, habl, colm, ticket, dieron]</td>\n",
       "    </tr>\n",
       "    <tr>\n",
       "      <th>4</th>\n",
       "      <td>Tuvimos un par de personas en el grupo que realmente queríamos comer cabrito, el resto de nosotros eran buenas con probarla. Servicio empezó realmente bien, hasta que llegamos a situar nuestros pedidos. Cuando le preguntamos acerca de cómo agregar o sustituir elementos el camarero casi...parecía molestarle y claro qué y cómo lo ve en el menú es la única opción. Aparte de eso, la comida y el ambiente donde genial!Más</td>\n",
       "      <td>3</td>\n",
       "      <td>[Tuvimos, un, par, de, personas, en, el, grupo, que, realmente, queríamos, comer, cabrito, ,, el, resto, de, nosotros, eran, buenas, con, probarla, ., Servicio, empezó, realmente, bien, ,, hasta, que, llegamos, a, situar, nuestros, pedidos, ., Cuando, le, preguntamos, acerca, de, cómo, agregar, o, sustituir, elementos, el, camarero, casi, ..., parecía, molestarle, y, claro, qué, y, cómo, lo, ve, en, el, menú, es, la, única, opción, ., Aparte, de, eso, ,, la, comida, y, el, ambiente, donde, genial, !, Más]</td>\n",
       "      <td>[par, person, grup, realment, quer, com, cabrit, rest, buen, prob, servici, empez, realment, bien, lleg, situ, ped, pregunt, acerc, com, agreg, sustitu, element, camarer, casi, parec, molest, clar, com, ve, menu, unic, opcion, apart, com, ambient, genial]</td>\n",
       "    </tr>\n",
       "  </tbody>\n",
       "</table>\n",
       "</div>"
      ],
      "text/plain": [
       "                                                                                                                                                                                                                                                                                                                                                                                                                                   Review  \\\n",
       "0                                                                                                                                                                            Muy buena atención y aclaración de dudas por parte de la señorita Verónica castillo, atenta y amable en cuestión laborable.  Ideal para descansar muy buenas habitaciónes, limpieza, ordenadas.  Buena comida de parte del restaurante,variedad en comidas     \n",
       "1                                                                                                                               Buen hotel si están obligados a estar cerca del centro de convenciones, pero el restaurante necesita mejorar! Frío y café flojo - y - un montón de pan de personas que sirve unos uderstanding de bu lo que significa un servicio. En este barrio con tan pocas opciones - debería ser un hotel especial.   \n",
       "2                                                                                                                                                                                                                                                                                                                                Es un lugar muy lindo para fotografías, visiten Selina, música en vivo, cerveza artesanal y buena comida   \n",
       "3  Abusados con la factura de alimentos siempre se echan la culpa unos a otros van y buscan el rfc que les proporcionaste por que independisan la base que ya tienen registrada en alimentos con la base del check in y ya pasaron 3 dias y aun nadade mi factura aunque hables de larga distancia y queden formalmente fe enviartela en un momento no es asi mañana otra vez voy a tener que hablar y para colmo ni el ticket me dieron.   \n",
       "4     Tuvimos un par de personas en el grupo que realmente queríamos comer cabrito, el resto de nosotros eran buenas con probarla. Servicio empezó realmente bien, hasta que llegamos a situar nuestros pedidos. Cuando le preguntamos acerca de cómo agregar o sustituir elementos el camarero casi...parecía molestarle y claro qué y cómo lo ve en el menú es la única opción. Aparte de eso, la comida y el ambiente donde genial!Más   \n",
       "\n",
       "   Class  \\\n",
       "0      5   \n",
       "1      3   \n",
       "2      5   \n",
       "3      3   \n",
       "4      3   \n",
       "\n",
       "                                                                                                                                                                                                                                                                                                                                                                                                                                                                                                                            Words  \\\n",
       "0                                                                                                                                                                                                                     [Muy, buena, atención, y, aclaración, de, dudas, por, parte, de, la, señorita, Verónica, castillo, ,, atenta, y, amable, en, cuestión, laborable, ., Ideal, para, descansar, muy, buenas, habitaciónes, ,, limpieza, ,, ordenadas, ., Buena, comida, de, parte, del, restaurante, ,, variedad, en, comidas]   \n",
       "1                                                                                                                                                        [Buen, hotel, si, están, obligados, a, estar, cerca, del, centro, de, convenciones, ,, pero, el, restaurante, necesita, mejorar, !, Frío, y, café, flojo, -, y, -, un, montón, de, pan, de, personas, que, sirve, unos, uderstanding, de, bu, lo, que, significa, un, servicio, ., En, este, barrio, con, tan, pocas, opciones, -, debería, ser, un, hotel, especial, .]   \n",
       "2                                                                                                                                                                                                                                                                                                                                                                                                [Es, un, lugar, muy, lindo, para, fotografías, ,, visiten, Selina, ,, música, en, vivo, ,, cerveza, artesanal, y, buena, comida]   \n",
       "3      [Abusados, con, la, factura, de, alimentos, siempre, se, echan, la, culpa, unos, a, otros, van, y, buscan, el, rfc, que, les, proporcionaste, por, que, independisan, la, base, que, ya, tienen, registrada, en, alimentos, con, la, base, del, check, in, y, ya, pasaron, 3, dias, y, aun, nadade, mi, factura, aunque, hables, de, larga, distancia, y, queden, formalmente, fe, enviartela, en, un, momento, no, es, asi, mañana, otra, vez, voy, a, tener, que, hablar, y, para, colmo, ni, el, ticket, me, dieron, .]   \n",
       "4  [Tuvimos, un, par, de, personas, en, el, grupo, que, realmente, queríamos, comer, cabrito, ,, el, resto, de, nosotros, eran, buenas, con, probarla, ., Servicio, empezó, realmente, bien, ,, hasta, que, llegamos, a, situar, nuestros, pedidos, ., Cuando, le, preguntamos, acerca, de, cómo, agregar, o, sustituir, elementos, el, camarero, casi, ..., parecía, molestarle, y, claro, qué, y, cómo, lo, ve, en, el, menú, es, la, única, opción, ., Aparte, de, eso, ,, la, comida, y, el, ambiente, donde, genial, !, Más]   \n",
       "\n",
       "                                                                                                                                                                                                                                                                           Stemmed words  \n",
       "0                                                                                                    [buen, atencion, aclar, dud, part, senorit, veron, castill, atent, amabl, cuestion, labor, ideal, descans, buen, habitacion, limpiez, orden, buen, com, part, restaur, varied, com]  \n",
       "1                                                                           [buen, hotel, si, oblig, cerc, centr, convencion, restaur, necesit, mejor, fri, caf, floj, monton, pan, person, sirv, uderstanding, bu, signif, servici, barri, tan, poc, opcion, deb, ser, hotel, especial]  \n",
       "2                                                                                                                                                                                                          [lug, lind, fotograf, visit, selin, music, viv, cervez, artesanal, buen, com]  \n",
       "3  [abus, factur, aliment, siempr, echan, culp, van, busc, rfc, proporcion, independis, bas, registr, aliment, bas, check, in, pas, 3, dia, aun, nadad, factur, aunqu, habl, larg, distanci, qued, formal, fe, enviartel, moment, asi, manan, vez, voy, ten, habl, colm, ticket, dieron]  \n",
       "4                        [par, person, grup, realment, quer, com, cabrit, rest, buen, prob, servici, empez, realment, bien, lleg, situ, ped, pregunt, acerc, com, agreg, sustitu, element, camarer, casi, parec, molest, clar, com, ve, menu, unic, opcion, apart, com, ambient, genial]  "
      ]
     },
     "execution_count": 15,
     "metadata": {},
     "output_type": "execute_result"
    }
   ],
   "source": [
    "clean_process(token_df)\n",
    "token_df.head()"
   ]
  },
  {
   "cell_type": "markdown",
   "metadata": {},
   "source": [
    "Ahora podemos observae la conversión d elas palabras y la frecuencia de estas, lo que se muestra en el siguiente ejemplo donde se observan los lemas limpios de caracteres especviales, mayúsculas, puntuación, entre otros."
   ]
  },
  {
   "cell_type": "code",
   "execution_count": 16,
   "metadata": {},
   "outputs": [
    {
     "data": {
      "image/png": "[encoded data removed]",
      "text/plain": [
       "<Figure size 640x480 with 1 Axes>"
      ]
     },
     "metadata": {},
     "output_type": "display_data"
    },
    {
     "data": {
      "text/plain": [
       "<Axes: xlabel='Samples', ylabel='Counts'>"
      ]
     },
     "execution_count": 16,
     "metadata": {},
     "output_type": "execute_result"
    }
   ],
   "source": [
    "fdist = FreqDist(token_df['Stemmed words'][random.randint(0, df.shape[0])])\n",
    "fdist.plot(30, cumulative = False)"
   ]
  },
  {
   "cell_type": "markdown",
   "metadata": {},
   "source": [
    "### Vectorización, modelado y evaluación"
   ]
  },
  {
   "cell_type": "markdown",
   "metadata": {},
   "source": [
    "Como primer paso para el modelado, es necesario vectorizar las reseñas para que el computador pueda tener un correcto entendimiento de estas, por lo que un primer paso es juntar los lemas enlistados en oraciones representantes de sus respectivas reseñas. Igualmente, al juntar estas oraciones se hace la división de datos de entrenaiento y test. Los datos de entrenamiento se parten a su vez en modelado y validación."
   ]
  },
  {
   "cell_type": "code",
   "execution_count": 17,
   "metadata": {},
   "outputs": [],
   "source": [
    "token_df['Text'] = [' '.join(text) for text in token_df['Stemmed words']]\n",
    "\n",
    "X = token_df['Text']\n",
    "Y = token_df['Class']\n",
    "\n",
    "X_train, X_test, Y_train, Y_test = train_test_split(X, Y, test_size=0.2, random_state=777)\n",
    "X_modeling, X_validation, Y_modeling, Y_validation = train_test_split(X_train, Y_train, test_size=0.2, random_state=777)"
   ]
  },
  {
   "cell_type": "markdown",
   "metadata": {},
   "source": [
    "Ahora bien, para vectorizar se tendrán en cuenta 3 formas de vectorización, que, teniendo en cuenta las ventajas y desvantajas de cada una, se conoce que no hay un mejor vectorizador para todos los casos. La elección del vectorizador depende de la complejidad de las reseñas, por lo que se construye, primero, un vectorizador de forma 'word2vec' y posteriormente, se hace una funación que evalúe la calidad del resultado de modelado y validación para los vectorizadores 'word2vec', 'Count' y 'Tfidf', el cual retorna el mejor vectorizador observando los resultados obtenidos."
   ]
  },
  {
   "cell_type": "code",
   "execution_count": 18,
   "metadata": {},
   "outputs": [],
   "source": [
    "def word2vec(model):\n",
    "    sentences = [text.split() for text in X_train]\n",
    "    word2vec_vectorizer = Word2Vec(sentences, vector_size=3, window=2, min_count=1)\n",
    "    X_list_train = []\n",
    "    for text in sentences:\n",
    "        vector = np.zeros(3) \n",
    "        for word in text:\n",
    "            if word in word2vec_vectorizer.wv:\n",
    "                vector += word2vec_vectorizer.wv[word]\n",
    "        X_list_train.append(vector)\n",
    "    X_temp_train = np.array(X_list_train)\n",
    "    X_temp_modeling, X_temp_validation, Y_temp_modeling, Y_temp_validation = train_test_split(X_temp_train, Y_train, test_size=0.2, random_state=777)\n",
    "    model.fit(X_temp_modeling, Y_temp_modeling)\n",
    "    Y_temp_pred_validation = model.predict(X_temp_validation)\n",
    "    score = f1_score(Y_temp_validation, Y_temp_pred_validation, average='micro')\n",
    "    return word2vec_vectorizer, score, model\n"
   ]
  },
  {
   "cell_type": "code",
   "execution_count": 19,
   "metadata": {},
   "outputs": [],
   "source": [
    "def best_vectorizer(model):\n",
    "    best_vectorizer = None\n",
    "    best_score = 0\n",
    "    for vectorizer in ['CountVectorizer', 'TfidfVectorizer']:\n",
    "        if vectorizer == 'CountVectorizer':\n",
    "            vectorizer = CountVectorizer()\n",
    "        else:\n",
    "            vectorizer = TfidfVectorizer()\n",
    "        X_modeling_transformed = vectorizer.fit_transform(X_modeling)\n",
    "        model.fit(X_modeling_transformed, Y_modeling)\n",
    "        X_validation_transformed = vectorizer.transform(X_validation)\n",
    "        Y_pred_validation = model.predict(X_validation_transformed)\n",
    "        score = f1_score(Y_validation, Y_pred_validation, average='micro')\n",
    "        if score > best_score:\n",
    "            best_score = score\n",
    "            best_vectorizer = vectorizer\n",
    "    try:\n",
    "        word2vec_vectorizer, word2vec_score, word2vec_model = word2vec(model)\n",
    "        if word2vec_score > best_score:\n",
    "            best_score = word2vec_score\n",
    "            best_vectorizer = word2vec_vectorizer\n",
    "            model = word2vec_model\n",
    "    except:\n",
    "        print(\"(!) No se pudo realizar word2vec por el motivo mostrado\")\n",
    "    print(f\">> El mejor vectorizador es {best_vectorizer} con un score f1 de {best_score}\")\n",
    "    return best_vectorizer, model"
   ]
  },
  {
   "cell_type": "markdown",
   "metadata": {},
   "source": [
    "Ahora, se procede a hacer el modelado por medio de tres algoritmos para observar la mejor alternativa."
   ]
  },
  {
   "cell_type": "markdown",
   "metadata": {},
   "source": [
    "#### Modelado con 'SVC'"
   ]
  },
  {
   "cell_type": "markdown",
   "metadata": {},
   "source": [
    "El SVC puede ser una opción interesante ya que, es capaz de manejar grandes cantidades de información, como las reseñas de turistas, y puede trabajar con diferentes tipos de datos, lo que lo hace bastante opcionado para este tipo de análisis de textos. Es conocido por dar buenos resultados incluso con conjuntos de datos relativamente pequeños y puede manejar bien el ruido y las características irrelevantes."
   ]
  },
  {
   "cell_type": "markdown",
   "metadata": {},
   "source": [
    "En primer lugar, se inicializa un modelo SVC y luego se busca el mejor método para convertir texto en datos numéricos mediante la función best_vectorizer. Después de llamar a esta función, se asignan el mejor vectorizador y el modelo SVC actualizado, lo que asegura el uso del enfoque más efectivo para analizar las reseñas turísticas."
   ]
  },
  {
   "cell_type": "code",
   "execution_count": 21,
   "metadata": {},
   "outputs": [
    {
     "name": "stdout",
     "output_type": "stream",
     "text": [
      ">> El mejor vectorizador es TfidfVectorizer() con un score f1 de 0.4785714285714286\n"
     ]
    }
   ],
   "source": [
    "model = SVC(kernel='linear', probability=False )\n",
    "vectorizer, model = best_vectorizer(model)"
   ]
  },
  {
   "cell_type": "markdown",
   "metadata": {},
   "source": [
    "Se procede a inicializar y ajustar el vectorizador TF-IDF (teniendo en cuenta la información obtenida sobre el mejor vectorizador); este proceso asigna valores numéricos a las palabras en función de su importancia en el texto. Esto ayuda a los modelos a entender qué palabras son importantes para predecir resultados."
   ]
  },
  {
   "cell_type": "code",
   "execution_count": 22,
   "metadata": {},
   "outputs": [],
   "source": [
    "tfidf_vectorizer = TfidfVectorizer()\n",
    "X_train_tfidf = tfidf_vectorizer.fit_transform(X_train)\n",
    "X_test_tfidf = tfidf_vectorizer.transform(X_test)"
   ]
  },
  {
   "cell_type": "markdown",
   "metadata": {},
   "source": [
    "Se procede a entrenar el modelo SVC con los datos de entrenamiento."
   ]
  },
  {
   "cell_type": "code",
   "execution_count": 23,
   "metadata": {},
   "outputs": [
    {
     "data": {
      "text/html": [
       "<style>#sk-container-id-1 {\n",
       "  /* Definition of color scheme common for light and dark mode */\n",
       "  --sklearn-color-text: black;\n",
       "  --sklearn-color-line: gray;\n",
       "  /* Definition of color scheme for unfitted estimators */\n",
       "  --sklearn-color-unfitted-level-0: #fff5e6;\n",
       "  --sklearn-color-unfitted-level-1: #f6e4d2;\n",
       "  --sklearn-color-unfitted-level-2: #ffe0b3;\n",
       "  --sklearn-color-unfitted-level-3: chocolate;\n",
       "  /* Definition of color scheme for fitted estimators */\n",
       "  --sklearn-color-fitted-level-0: #f0f8ff;\n",
       "  --sklearn-color-fitted-level-1: #d4ebff;\n",
       "  --sklearn-color-fitted-level-2: #b3dbfd;\n",
       "  --sklearn-color-fitted-level-3: cornflowerblue;\n",
       "\n",
       "  /* Specific color for light theme */\n",
       "  --sklearn-color-text-on-default-background: var(--sg-text-color, var(--theme-code-foreground, var(--jp-content-font-color1, black)));\n",
       "  --sklearn-color-background: var(--sg-background-color, var(--theme-background, var(--jp-layout-color0, white)));\n",
       "  --sklearn-color-border-box: var(--sg-text-color, var(--theme-code-foreground, var(--jp-content-font-color1, black)));\n",
       "  --sklearn-color-icon: #696969;\n",
       "\n",
       "  @media (prefers-color-scheme: dark) {\n",
       "    /* Redefinition of color scheme for dark theme */\n",
       "    --sklearn-color-text-on-default-background: var(--sg-text-color, var(--theme-code-foreground, var(--jp-content-font-color1, white)));\n",
       "    --sklearn-color-background: var(--sg-background-color, var(--theme-background, var(--jp-layout-color0, #111)));\n",
       "    --sklearn-color-border-box: var(--sg-text-color, var(--theme-code-foreground, var(--jp-content-font-color1, white)));\n",
       "    --sklearn-color-icon: #878787;\n",
       "  }\n",
       "}\n",
       "\n",
       "#sk-container-id-1 {\n",
       "  color: var(--sklearn-color-text);\n",
       "}\n",
       "\n",
       "#sk-container-id-1 pre {\n",
       "  padding: 0;\n",
       "}\n",
       "\n",
       "#sk-container-id-1 input.sk-hidden--visually {\n",
       "  border: 0;\n",
       "  clip: rect(1px 1px 1px 1px);\n",
       "  clip: rect(1px, 1px, 1px, 1px);\n",
       "  height: 1px;\n",
       "  margin: -1px;\n",
       "  overflow: hidden;\n",
       "  padding: 0;\n",
       "  position: absolute;\n",
       "  width: 1px;\n",
       "}\n",
       "\n",
       "#sk-container-id-1 div.sk-dashed-wrapped {\n",
       "  border: 1px dashed var(--sklearn-color-line);\n",
       "  margin: 0 0.4em 0.5em 0.4em;\n",
       "  box-sizing: border-box;\n",
       "  padding-bottom: 0.4em;\n",
       "  background-color: var(--sklearn-color-background);\n",
       "}\n",
       "\n",
       "#sk-container-id-1 div.sk-container {\n",
       "  /* jupyter's `normalize.less` sets `[hidden] { display: none; }`\n",
       "     but bootstrap.min.css set `[hidden] { display: none !important; }`\n",
       "     so we also need the `!important` here to be able to override the\n",
       "     default hidden behavior on the sphinx rendered scikit-learn.org.\n",
       "     See: https://github.com/scikit-learn/scikit-learn/issues/21755 */\n",
       "  display: inline-block !important;\n",
       "  position: relative;\n",
       "}\n",
       "\n",
       "#sk-container-id-1 div.sk-text-repr-fallback {\n",
       "  display: none;\n",
       "}\n",
       "\n",
       "div.sk-parallel-item,\n",
       "div.sk-serial,\n",
       "div.sk-item {\n",
       "  /* draw centered vertical line to link estimators */\n",
       "  background-image: linear-gradient(var(--sklearn-color-text-on-default-background), var(--sklearn-color-text-on-default-background));\n",
       "  background-size: 2px 100%;\n",
       "  background-repeat: no-repeat;\n",
       "  background-position: center center;\n",
       "}\n",
       "\n",
       "/* Parallel-specific style estimator block */\n",
       "\n",
       "#sk-container-id-1 div.sk-parallel-item::after {\n",
       "  content: \"\";\n",
       "  width: 100%;\n",
       "  border-bottom: 2px solid var(--sklearn-color-text-on-default-background);\n",
       "  flex-grow: 1;\n",
       "}\n",
       "\n",
       "#sk-container-id-1 div.sk-parallel {\n",
       "  display: flex;\n",
       "  align-items: stretch;\n",
       "  justify-content: center;\n",
       "  background-color: var(--sklearn-color-background);\n",
       "  position: relative;\n",
       "}\n",
       "\n",
       "#sk-container-id-1 div.sk-parallel-item {\n",
       "  display: flex;\n",
       "  flex-direction: column;\n",
       "}\n",
       "\n",
       "#sk-container-id-1 div.sk-parallel-item:first-child::after {\n",
       "  align-self: flex-end;\n",
       "  width: 50%;\n",
       "}\n",
       "\n",
       "#sk-container-id-1 div.sk-parallel-item:last-child::after {\n",
       "  align-self: flex-start;\n",
       "  width: 50%;\n",
       "}\n",
       "\n",
       "#sk-container-id-1 div.sk-parallel-item:only-child::after {\n",
       "  width: 0;\n",
       "}\n",
       "\n",
       "/* Serial-specific style estimator block */\n",
       "\n",
       "#sk-container-id-1 div.sk-serial {\n",
       "  display: flex;\n",
       "  flex-direction: column;\n",
       "  align-items: center;\n",
       "  background-color: var(--sklearn-color-background);\n",
       "  padding-right: 1em;\n",
       "  padding-left: 1em;\n",
       "}\n",
       "\n",
       "\n",
       "/* Toggleable style: style used for estimator/Pipeline/ColumnTransformer box that is\n",
       "clickable and can be expanded/collapsed.\n",
       "- Pipeline and ColumnTransformer use this feature and define the default style\n",
       "- Estimators will overwrite some part of the style using the `sk-estimator` class\n",
       "*/\n",
       "\n",
       "/* Pipeline and ColumnTransformer style (default) */\n",
       "\n",
       "#sk-container-id-1 div.sk-toggleable {\n",
       "  /* Default theme specific background. It is overwritten whether we have a\n",
       "  specific estimator or a Pipeline/ColumnTransformer */\n",
       "  background-color: var(--sklearn-color-background);\n",
       "}\n",
       "\n",
       "/* Toggleable label */\n",
       "#sk-container-id-1 label.sk-toggleable__label {\n",
       "  cursor: pointer;\n",
       "  display: block;\n",
       "  width: 100%;\n",
       "  margin-bottom: 0;\n",
       "  padding: 0.5em;\n",
       "  box-sizing: border-box;\n",
       "  text-align: center;\n",
       "}\n",
       "\n",
       "#sk-container-id-1 label.sk-toggleable__label-arrow:before {\n",
       "  /* Arrow on the left of the label */\n",
       "  content: \"▸\";\n",
       "  float: left;\n",
       "  margin-right: 0.25em;\n",
       "  color: var(--sklearn-color-icon);\n",
       "}\n",
       "\n",
       "#sk-container-id-1 label.sk-toggleable__label-arrow:hover:before {\n",
       "  color: var(--sklearn-color-text);\n",
       "}\n",
       "\n",
       "/* Toggleable content - dropdown */\n",
       "\n",
       "#sk-container-id-1 div.sk-toggleable__content {\n",
       "  max-height: 0;\n",
       "  max-width: 0;\n",
       "  overflow: hidden;\n",
       "  text-align: left;\n",
       "  /* unfitted */\n",
       "  background-color: var(--sklearn-color-unfitted-level-0);\n",
       "}\n",
       "\n",
       "#sk-container-id-1 div.sk-toggleable__content.fitted {\n",
       "  /* fitted */\n",
       "  background-color: var(--sklearn-color-fitted-level-0);\n",
       "}\n",
       "\n",
       "#sk-container-id-1 div.sk-toggleable__content pre {\n",
       "  margin: 0.2em;\n",
       "  border-radius: 0.25em;\n",
       "  color: var(--sklearn-color-text);\n",
       "  /* unfitted */\n",
       "  background-color: var(--sklearn-color-unfitted-level-0);\n",
       "}\n",
       "\n",
       "#sk-container-id-1 div.sk-toggleable__content.fitted pre {\n",
       "  /* unfitted */\n",
       "  background-color: var(--sklearn-color-fitted-level-0);\n",
       "}\n",
       "\n",
       "#sk-container-id-1 input.sk-toggleable__control:checked~div.sk-toggleable__content {\n",
       "  /* Expand drop-down */\n",
       "  max-height: 200px;\n",
       "  max-width: 100%;\n",
       "  overflow: auto;\n",
       "}\n",
       "\n",
       "#sk-container-id-1 input.sk-toggleable__control:checked~label.sk-toggleable__label-arrow:before {\n",
       "  content: \"▾\";\n",
       "}\n",
       "\n",
       "/* Pipeline/ColumnTransformer-specific style */\n",
       "\n",
       "#sk-container-id-1 div.sk-label input.sk-toggleable__control:checked~label.sk-toggleable__label {\n",
       "  color: var(--sklearn-color-text);\n",
       "  background-color: var(--sklearn-color-unfitted-level-2);\n",
       "}\n",
       "\n",
       "#sk-container-id-1 div.sk-label.fitted input.sk-toggleable__control:checked~label.sk-toggleable__label {\n",
       "  background-color: var(--sklearn-color-fitted-level-2);\n",
       "}\n",
       "\n",
       "/* Estimator-specific style */\n",
       "\n",
       "/* Colorize estimator box */\n",
       "#sk-container-id-1 div.sk-estimator input.sk-toggleable__control:checked~label.sk-toggleable__label {\n",
       "  /* unfitted */\n",
       "  background-color: var(--sklearn-color-unfitted-level-2);\n",
       "}\n",
       "\n",
       "#sk-container-id-1 div.sk-estimator.fitted input.sk-toggleable__control:checked~label.sk-toggleable__label {\n",
       "  /* fitted */\n",
       "  background-color: var(--sklearn-color-fitted-level-2);\n",
       "}\n",
       "\n",
       "#sk-container-id-1 div.sk-label label.sk-toggleable__label,\n",
       "#sk-container-id-1 div.sk-label label {\n",
       "  /* The background is the default theme color */\n",
       "  color: var(--sklearn-color-text-on-default-background);\n",
       "}\n",
       "\n",
       "/* On hover, darken the color of the background */\n",
       "#sk-container-id-1 div.sk-label:hover label.sk-toggleable__label {\n",
       "  color: var(--sklearn-color-text);\n",
       "  background-color: var(--sklearn-color-unfitted-level-2);\n",
       "}\n",
       "\n",
       "/* Label box, darken color on hover, fitted */\n",
       "#sk-container-id-1 div.sk-label.fitted:hover label.sk-toggleable__label.fitted {\n",
       "  color: var(--sklearn-color-text);\n",
       "  background-color: var(--sklearn-color-fitted-level-2);\n",
       "}\n",
       "\n",
       "/* Estimator label */\n",
       "\n",
       "#sk-container-id-1 div.sk-label label {\n",
       "  font-family: monospace;\n",
       "  font-weight: bold;\n",
       "  display: inline-block;\n",
       "  line-height: 1.2em;\n",
       "}\n",
       "\n",
       "#sk-container-id-1 div.sk-label-container {\n",
       "  text-align: center;\n",
       "}\n",
       "\n",
       "/* Estimator-specific */\n",
       "#sk-container-id-1 div.sk-estimator {\n",
       "  font-family: monospace;\n",
       "  border: 1px dotted var(--sklearn-color-border-box);\n",
       "  border-radius: 0.25em;\n",
       "  box-sizing: border-box;\n",
       "  margin-bottom: 0.5em;\n",
       "  /* unfitted */\n",
       "  background-color: var(--sklearn-color-unfitted-level-0);\n",
       "}\n",
       "\n",
       "#sk-container-id-1 div.sk-estimator.fitted {\n",
       "  /* fitted */\n",
       "  background-color: var(--sklearn-color-fitted-level-0);\n",
       "}\n",
       "\n",
       "/* on hover */\n",
       "#sk-container-id-1 div.sk-estimator:hover {\n",
       "  /* unfitted */\n",
       "  background-color: var(--sklearn-color-unfitted-level-2);\n",
       "}\n",
       "\n",
       "#sk-container-id-1 div.sk-estimator.fitted:hover {\n",
       "  /* fitted */\n",
       "  background-color: var(--sklearn-color-fitted-level-2);\n",
       "}\n",
       "\n",
       "/* Specification for estimator info (e.g. \"i\" and \"?\") */\n",
       "\n",
       "/* Common style for \"i\" and \"?\" */\n",
       "\n",
       ".sk-estimator-doc-link,\n",
       "a:link.sk-estimator-doc-link,\n",
       "a:visited.sk-estimator-doc-link {\n",
       "  float: right;\n",
       "  font-size: smaller;\n",
       "  line-height: 1em;\n",
       "  font-family: monospace;\n",
       "  background-color: var(--sklearn-color-background);\n",
       "  border-radius: 1em;\n",
       "  height: 1em;\n",
       "  width: 1em;\n",
       "  text-decoration: none !important;\n",
       "  margin-left: 1ex;\n",
       "  /* unfitted */\n",
       "  border: var(--sklearn-color-unfitted-level-1) 1pt solid;\n",
       "  color: var(--sklearn-color-unfitted-level-1);\n",
       "}\n",
       "\n",
       ".sk-estimator-doc-link.fitted,\n",
       "a:link.sk-estimator-doc-link.fitted,\n",
       "a:visited.sk-estimator-doc-link.fitted {\n",
       "  /* fitted */\n",
       "  border: var(--sklearn-color-fitted-level-1) 1pt solid;\n",
       "  color: var(--sklearn-color-fitted-level-1);\n",
       "}\n",
       "\n",
       "/* On hover */\n",
       "div.sk-estimator:hover .sk-estimator-doc-link:hover,\n",
       ".sk-estimator-doc-link:hover,\n",
       "div.sk-label-container:hover .sk-estimator-doc-link:hover,\n",
       ".sk-estimator-doc-link:hover {\n",
       "  /* unfitted */\n",
       "  background-color: var(--sklearn-color-unfitted-level-3);\n",
       "  color: var(--sklearn-color-background);\n",
       "  text-decoration: none;\n",
       "}\n",
       "\n",
       "div.sk-estimator.fitted:hover .sk-estimator-doc-link.fitted:hover,\n",
       ".sk-estimator-doc-link.fitted:hover,\n",
       "div.sk-label-container:hover .sk-estimator-doc-link.fitted:hover,\n",
       ".sk-estimator-doc-link.fitted:hover {\n",
       "  /* fitted */\n",
       "  background-color: var(--sklearn-color-fitted-level-3);\n",
       "  color: var(--sklearn-color-background);\n",
       "  text-decoration: none;\n",
       "}\n",
       "\n",
       "/* Span, style for the box shown on hovering the info icon */\n",
       ".sk-estimator-doc-link span {\n",
       "  display: none;\n",
       "  z-index: 9999;\n",
       "  position: relative;\n",
       "  font-weight: normal;\n",
       "  right: .2ex;\n",
       "  padding: .5ex;\n",
       "  margin: .5ex;\n",
       "  width: min-content;\n",
       "  min-width: 20ex;\n",
       "  max-width: 50ex;\n",
       "  color: var(--sklearn-color-text);\n",
       "  box-shadow: 2pt 2pt 4pt #999;\n",
       "  /* unfitted */\n",
       "  background: var(--sklearn-color-unfitted-level-0);\n",
       "  border: .5pt solid var(--sklearn-color-unfitted-level-3);\n",
       "}\n",
       "\n",
       ".sk-estimator-doc-link.fitted span {\n",
       "  /* fitted */\n",
       "  background: var(--sklearn-color-fitted-level-0);\n",
       "  border: var(--sklearn-color-fitted-level-3);\n",
       "}\n",
       "\n",
       ".sk-estimator-doc-link:hover span {\n",
       "  display: block;\n",
       "}\n",
       "\n",
       "/* \"?\"-specific style due to the `<a>` HTML tag */\n",
       "\n",
       "#sk-container-id-1 a.estimator_doc_link {\n",
       "  float: right;\n",
       "  font-size: 1rem;\n",
       "  line-height: 1em;\n",
       "  font-family: monospace;\n",
       "  background-color: var(--sklearn-color-background);\n",
       "  border-radius: 1rem;\n",
       "  height: 1rem;\n",
       "  width: 1rem;\n",
       "  text-decoration: none;\n",
       "  /* unfitted */\n",
       "  color: var(--sklearn-color-unfitted-level-1);\n",
       "  border: var(--sklearn-color-unfitted-level-1) 1pt solid;\n",
       "}\n",
       "\n",
       "#sk-container-id-1 a.estimator_doc_link.fitted {\n",
       "  /* fitted */\n",
       "  border: var(--sklearn-color-fitted-level-1) 1pt solid;\n",
       "  color: var(--sklearn-color-fitted-level-1);\n",
       "}\n",
       "\n",
       "/* On hover */\n",
       "#sk-container-id-1 a.estimator_doc_link:hover {\n",
       "  /* unfitted */\n",
       "  background-color: var(--sklearn-color-unfitted-level-3);\n",
       "  color: var(--sklearn-color-background);\n",
       "  text-decoration: none;\n",
       "}\n",
       "\n",
       "#sk-container-id-1 a.estimator_doc_link.fitted:hover {\n",
       "  /* fitted */\n",
       "  background-color: var(--sklearn-color-fitted-level-3);\n",
       "}\n",
       "</style><div id=\"sk-container-id-1\" class=\"sk-top-container\"><div class=\"sk-text-repr-fallback\"><pre>SVC(kernel=&#x27;linear&#x27;)</pre><b>In a Jupyter environment, please rerun this cell to show the HTML representation or trust the notebook. <br />On GitHub, the HTML representation is unable to render, please try loading this page with nbviewer.org.</b></div><div class=\"sk-container\" hidden><div class=\"sk-item\"><div class=\"sk-estimator fitted sk-toggleable\"><input class=\"sk-toggleable__control sk-hidden--visually\" id=\"sk-estimator-id-1\" type=\"checkbox\" checked><label for=\"sk-estimator-id-1\" class=\"sk-toggleable__label fitted sk-toggleable__label-arrow fitted\">&nbsp;&nbsp;SVC<a class=\"sk-estimator-doc-link fitted\" rel=\"noreferrer\" target=\"_blank\" href=\"https://scikit-learn.org/1.4/modules/generated/sklearn.svm.SVC.html\">?<span>Documentation for SVC</span></a><span class=\"sk-estimator-doc-link fitted\">i<span>Fitted</span></span></label><div class=\"sk-toggleable__content fitted\"><pre>SVC(kernel=&#x27;linear&#x27;)</pre></div> </div></div></div></div>"
      ],
      "text/plain": [
       "SVC(kernel='linear')"
      ]
     },
     "execution_count": 23,
     "metadata": {},
     "output_type": "execute_result"
    }
   ],
   "source": [
    "model.fit(X_train_tfidf, Y_train)"
   ]
  },
  {
   "cell_type": "markdown",
   "metadata": {},
   "source": [
    "Se realizan predicciones sobre los datos de prueba utilizando el modelo SVC entrenado. Estas predicciones serán usadas mas adelante en el análisis cuantitativo. "
   ]
  },
  {
   "cell_type": "code",
   "execution_count": 24,
   "metadata": {},
   "outputs": [],
   "source": [
    "predicciones = model.predict(X_test_tfidf)"
   ]
  },
  {
   "cell_type": "markdown",
   "metadata": {},
   "source": [
    "#### Validación cuantitativa con 'SVC'"
   ]
  },
  {
   "cell_type": "markdown",
   "metadata": {},
   "source": [
    "Para la validación, se imprime un informe de clasificación que muestra la precisión, el recall y la puntuación F1 del modelo en los datos de prueba, comparando las etiquetas verdaderas (Y_test) con las predicciones realizadas por el modelo."
   ]
  },
  {
   "cell_type": "code",
   "execution_count": 25,
   "metadata": {},
   "outputs": [
    {
     "name": "stdout",
     "output_type": "stream",
     "text": [
      "              precision    recall  f1-score   support\n",
      "\n",
      "           1       0.50      0.39      0.44       138\n",
      "           2       0.44      0.37      0.40       244\n",
      "           3       0.40      0.43      0.41       314\n",
      "           4       0.47      0.43      0.45       424\n",
      "           5       0.60      0.70      0.64       455\n",
      "\n",
      "    accuracy                           0.50      1575\n",
      "   macro avg       0.48      0.46      0.47      1575\n",
      "weighted avg       0.49      0.50      0.49      1575\n",
      "\n"
     ]
    }
   ],
   "source": [
    "print(classification_report(Y_test, predicciones))"
   ]
  },
  {
   "cell_type": "markdown",
   "metadata": {},
   "source": [
    "Una vez poseemos la información sobre el rendimiento del modelo, procedemos a describir lo encontrado en cada categoría:\n",
    "\n",
    "La precisión (que representa el porcentaje de verdaderos positivos respecto a todos los positivos), muestra variaciones según la clase, la mas alta se ve en la clase 1 con un 60%, mientras que la más baja es para la clase 3 con un 40%. El recall, por otro lado, es el porcentaje de verdaderos positivos respecto a todos los ejemplos que son realmente de esa clase; la clase 5 obtuvo el valor más alto (70%), indicando que el modelo identifica bien la mayoría de estos ejemplos. El F1-score, es medida que proporciona un balance entre precisión y recall, encontramos que es más alto para la clase 5 (64%); esto nos indica un buen equilibrio entre ambas métricas. \n",
    "\n",
    "Por otra parte, con respecto al accuracy, que muestra el porcentaje de predicciones correctas en el conjunto de prueba, el cual es del 50% en este caso, se indica que el modelo clasifica correctamente la mitad de las muestras del conjunto de prueba.\n",
    "\n",
    "Procedemos con calcular el F1 score y se realiza el entrenamiento con el set completo de entrenamiento::"
   ]
  },
  {
   "cell_type": "code",
   "execution_count": 26,
   "metadata": {},
   "outputs": [
    {
     "name": "stdout",
     "output_type": "stream",
     "text": [
      ">> El puntaje f1 de test es 0.49523809523809526\n"
     ]
    }
   ],
   "source": [
    "X_train_transformed = vectorizer.fit_transform(X_train)\n",
    "model.fit(X_train_transformed, Y_train)\n",
    "X_test_transformed = vectorizer.transform(X_test)\n",
    "Y_pred_test = model.predict(X_test_transformed)\n",
    "score = f1_score(Y_test, Y_pred_test, average='micro')\n",
    "print(f\">> El puntaje f1 de test es {score}\")"
   ]
  },
  {
   "cell_type": "markdown",
   "metadata": {},
   "source": [
    "Ya que el puntaje F1 más alto indica un mejor rendimiento del modelo en los datos de prueba, con los resultados obtenidos de 0.49 aproximadamente, se dice que el modelo tiene un rendimiento moderado en la clasificación de los datos de prueba."
   ]
  },
  {
   "cell_type": "markdown",
   "metadata": {},
   "source": [
    "Obtenemos los puntajes overall del modelo."
   ]
  },
  {
   "cell_type": "code",
   "execution_count": 27,
   "metadata": {},
   "outputs": [
    {
     "name": "stdout",
     "output_type": "stream",
     "text": [
      "Recall: 0.49523809523809526\n",
      "Precisión: 0.49523809523809526\n",
      "Puntuación F1: 0.49523809523809526\n"
     ]
    }
   ],
   "source": [
    "print(\"Recall: {}\".format(recall_score(Y_test, Y_pred_test, average='micro')))\n",
    "print(\"Precisión: {}\".format(precision_score(Y_test, Y_pred_test, average='micro')))\n",
    "print(\"Puntuación F1: {}\".format(f1_score(Y_test, Y_pred_test, average='micro')))"
   ]
  },
  {
   "cell_type": "markdown",
   "metadata": {},
   "source": [
    "Realizamos un plot para verificar la manera en la que se clasificaron y verificar la efectividad relativa."
   ]
  },
  {
   "cell_type": "code",
   "execution_count": 28,
   "metadata": {},
   "outputs": [
    {
     "data": {
      "image/png": "[encoded data removed]",
      "text/plain": [
       "<Figure size 640x480 with 2 Axes>"
      ]
     },
     "metadata": {},
     "output_type": "display_data"
    }
   ],
   "source": [
    "cm = confusion_matrix(Y_test, Y_pred_test)\n",
    "disp = ConfusionMatrixDisplay(\n",
    "    confusion_matrix=cm, display_labels=model.classes_)\n",
    "disp.plot(cmap=plt.cm.Blues)\n",
    "\n",
    "plt.show()"
   ]
  },
  {
   "cell_type": "markdown",
   "metadata": {},
   "source": [
    "Observamos que, por ejemplo para el caso donde se predijo 1 y la verdadera etiqueta es 5 es un error de clasificación que no se dió; lo cual es una buena señal. Podemos observar que a medida que las etiquetas se van acercando a su valor real, se empiezan a ver más errores. en general podemos decir que es muy probable que el modelo clasifique bien con la etiqueta 5, sin embargo en etiquetas como la 2, es muy cercano el valor para las predicciones 2 y 3 lo que nos indica que en esos apartados puede estar teniendo dificultades. Finalmente, se ven casos como el de la etiqueta real 1, donde casi iguala la mas prediccha con la clase 2, lo cual nos muestra una vez más en los apartados que se están teniendo dificultades y dónde se encuentran las oportunidades de mejora."
   ]
  },
  {
   "cell_type": "markdown",
   "metadata": {},
   "source": [
    "Realizamos un análisis para los extremos de las etiquetas (1 vs 5) con el fin de verificar la naturaleza de los errores o si son producto de una mala clasificación inicial."
   ]
  },
  {
   "cell_type": "code",
   "execution_count": 29,
   "metadata": {},
   "outputs": [
    {
     "name": "stdout",
     "output_type": "stream",
     "text": [
      "gran caminata, fantástica excursión pero tenía mi teléfono me robaron de la bolsa en el camino a casa (era poner sábana del coche junto con todos los demás (s) una pena, ya que de lo contrario la compañía era bueno.así que mantén objetos valiosos en persona su cuando se viaja a la selva\n"
     ]
    }
   ],
   "source": [
    "falsos_negativos = (Y_test == 1) & (Y_pred_test == 5)\n",
    "\n",
    "muestra_falso_negativo = X_test[falsos_negativos].sample(1).values[0]\n",
    "fila_coincidente = token_df.loc[token_df['Text'] == muestra_falso_negativo]\n",
    "resenia_falso_negativo = fila_coincidente['Review'].values[0]\n",
    "print(resenia_falso_negativo)"
   ]
  },
  {
   "cell_type": "markdown",
   "metadata": {},
   "source": [
    "Se puede observar que efectivamente es una reseña negativa por lo que se observa una dificultad que presenta el modelo. Sin embargo en esta categoría los errores relativos fueron bajos. \n",
    "\n",
    "Invertimos el caso (4 vs 1). No se hizo 5 vs 1 porque como se mencionó previamente, es un error que no se dió por lo que lo hacemos con 4."
   ]
  },
  {
   "cell_type": "code",
   "execution_count": 30,
   "metadata": {},
   "outputs": [
    {
     "name": "stdout",
     "output_type": "stream",
     "text": [
      "Estuve en este hotel 4 dias y fue una experiencia muy bonita. El hotel limpio y buen precio por noche.  Algunas cosas que no me gustaron fue que el servicio al cliente no es lo mejor. Una vez fui a front desk a preguntad si sabian de una forma para yo agarrar servicio de llamadas en mexico ya que yo venia de EU y el muchacho jamas me volteo a ver los ojos no despego la mirada de la compu y solo contesto muy seco \"Nose\" otro dia pedi unas tijeras y no contestaron nada y de vuelta no me vieron alos ojos pero solo me pasaron las tijeras sin decir nada. La piscina pense que era la que estaba afuera y era piscina adwntro muy chica. Pero todo lo demas muy bonito.\n"
     ]
    }
   ],
   "source": [
    "falsos_positivos = (Y_test == 4) & (Y_pred_test == 1)\n",
    "\n",
    "muestra_falso_positivo = X_test[falsos_positivos].sample(1).values[0]\n",
    "fila_coincidente = token_df.loc[token_df['Text'] == muestra_falso_positivo]\n",
    "resenia_falso_positivo = fila_coincidente['Review'].values[0]\n",
    "print(resenia_falso_positivo)"
   ]
  },
  {
   "cell_type": "markdown",
   "metadata": {},
   "source": [
    "En este caso la reseña es negativa y se confirma lo que se vió en el Plot sobre la dificultad que se tiene en el modelo en la etiqueta 4, en la cual la mayoría de muestras están mal clasificadas."
   ]
  },
  {
   "cell_type": "markdown",
   "metadata": {},
   "source": [
    "Validamos un comentario neutro clasificado neutro para confirmar el rendimiento."
   ]
  },
  {
   "cell_type": "code",
   "execution_count": 31,
   "metadata": {},
   "outputs": [
    {
     "name": "stdout",
     "output_type": "stream",
     "text": [
      "instalaciones muy acordes y la limpieza muy buena el servicio muy deficiente y muchos problemas en conexión de Internet necesitan mejorar esa parte, y que el personal demuestren una mejor actitud y den una respuesta mas rápida a los problemas\n"
     ]
    }
   ],
   "source": [
    "verdaderos_positivos = (Y_test == 3) & (Y_pred_test == 3)\n",
    "\n",
    "muestra_verdadero_positivo = X_test[verdaderos_positivos].sample(1).values[0]\n",
    "fila_coincidente = token_df.loc[token_df['Text'] == muestra_verdadero_positivo]\n",
    "resenia_verdadero_positivo = fila_coincidente['Review'].values[0]\n",
    "print(resenia_verdadero_positivo)"
   ]
  },
  {
   "cell_type": "markdown",
   "metadata": {},
   "source": [
    "Podemos observar que este comentario resalta aspectos positivos y negativos. Podríamos decir entonces que según el contexto y lo que menciona el usuario, es un caso de éxito para el modelo, pues fue identificado correctamente."
   ]
  },
  {
   "cell_type": "markdown",
   "metadata": {},
   "source": [
    "Revisamos las palabras más usadas por cada clase del modelo:"
   ]
  },
  {
   "cell_type": "code",
   "execution_count": 32,
   "metadata": {},
   "outputs": [
    {
     "name": "stdout",
     "output_type": "stream",
     "text": [
      "Clase 1: Palabras más repetidas: hotel, habit, lleg, mal, com\n",
      "Clase 2: Palabras más repetidas: habit, hotel, com, mal, lug\n",
      "Clase 3: Palabras más repetidas: buen, hotel, com, habit, bien\n",
      "Clase 4: Palabras más repetidas: buen, hotel, lug, com, visit\n",
      "Clase 5: Palabras más repetidas: com, lug, buen, excelent, visit\n"
     ]
    }
   ],
   "source": [
    "most_common_words = {}\n",
    "\n",
    "for class_label in set(Y_pred_test):\n",
    "    filtered_text = X_test[Y_pred_test == class_label]\n",
    "    concatenated_text = ' '.join(filtered_text)\n",
    "    words = nltk.word_tokenize(concatenated_text)\n",
    "    fdist = FreqDist(words)\n",
    "    sorted_words = sorted(fdist.items(), key=lambda x: x[1], reverse=True)\n",
    "    \n",
    "    most_common_words[class_label] = sorted_words[0][0] + \", \" + sorted_words[1][0] + \", \" + sorted_words[2][0] + \", \" + sorted_words[3][0] + \", \" + sorted_words[5][0]\n",
    "\n",
    "for class_label, word in most_common_words.items():\n",
    "    print(f\"Clase {class_label}: Palabras más repetidas: {word}\")\n",
    "    "
   ]
  },
  {
   "cell_type": "markdown",
   "metadata": {},
   "source": [
    "Podemos observar que palabras como 'excelent' o 'buen', son utiles en el manejo de la clasificación para la clase mas exitosa del modelo (la clase 5). Es importante mencionar también que para las demás categorías, puede que haya dificultad en la clasificación y es probable que esto se vea por la repetición de palabras que no aportan un contexto positivo o negativo, como lo son 'Hotel' y 'Habit'. También se puede observar que entre la categoria 3 y 4 hay varias palabras repetidas, por lo que es posible que a esto se pueda atribuir parte de las dificultades que esta teniendo el modelo en la diferenciación entre estas dos categorias."
   ]
  },
  {
   "cell_type": "markdown",
   "metadata": {},
   "source": [
    "Procedemos a imprimir el reporte de clasificación final."
   ]
  },
  {
   "cell_type": "code",
   "execution_count": 33,
   "metadata": {},
   "outputs": [
    {
     "name": "stdout",
     "output_type": "stream",
     "text": [
      "              precision    recall  f1-score   support\n",
      "\n",
      "           1       0.50      0.39      0.44       138\n",
      "           2       0.44      0.37      0.40       244\n",
      "           3       0.40      0.43      0.41       314\n",
      "           4       0.47      0.43      0.45       424\n",
      "           5       0.60      0.70      0.64       455\n",
      "\n",
      "    accuracy                           0.50      1575\n",
      "   macro avg       0.48      0.46      0.47      1575\n",
      "weighted avg       0.49      0.50      0.49      1575\n",
      "\n"
     ]
    }
   ],
   "source": [
    "report = classification_report(Y_test, Y_pred_test)\n",
    "print(report)"
   ]
  },
  {
   "cell_type": "markdown",
   "metadata": {},
   "source": [
    "Decimos entonces que, el modelo muestra un desempeño moderado en la clasificación, con métricas que oscilan entre 0.4 y 0.64, lo que indica cierto margen de mejora en la capacidad de clasificación."
   ]
  },
  {
   "cell_type": "markdown",
   "metadata": {},
   "source": [
    "Finalmente, se decide guardar el modelo para su posterior uso. "
   ]
  },
  {
   "cell_type": "code",
   "execution_count": 34,
   "metadata": {},
   "outputs": [],
   "source": [
    "SVC_model = model\n",
    "SVC_vectorizer = vectorizer"
   ]
  },
  {
   "cell_type": "markdown",
   "metadata": {},
   "source": [
    "## Resultados"
   ]
  },
  {
   "cell_type": "markdown",
   "metadata": {},
   "source": [
    "Al finalizar la construcción y estudio de los modelos, teniendo en cuenta el mayor puntaje de f1, junto a la cantidad de aciertos cercanos en clases aledañas a la clase real y restándo prestigio por colocar reseñas en clases equivocadas, el mejor modelo es el construido con el clasificador SVC, por lo que se usa como modelo predictor final."
   ]
  },
  {
   "cell_type": "code",
   "execution_count": 35,
   "metadata": {},
   "outputs": [],
   "source": [
    "model = SVC_model\n",
    "vectorizer = SVC_vectorizer"
   ]
  },
  {
   "cell_type": "markdown",
   "metadata": {},
   "source": [
    "### Creación de un PipeLine"
   ]
  },
  {
   "cell_type": "markdown",
   "metadata": {},
   "source": [
    "Para facilidad y legibilidad se hace una función capaz de vectorizar, dar un resultado en formato para predecir y limpiar aquellas columnas que originalmente no se encontraban en el formato de los dadtos proporcionados."
   ]
  },
  {
   "cell_type": "code",
   "execution_count": 37,
   "metadata": {},
   "outputs": [],
   "source": [
    "def clean_vectorize(data: pd.DataFrame, vectorizer):\n",
    "    data['Text'] = [' '.join(text) for text in data['Stemmed words']]\n",
    "    X_etiquetado = vectorizer.transform(data['Text'])\n",
    "    data.drop(['Text', 'Words', 'Stemmed words'], axis=1, inplace=True)\n",
    "    return X_etiquetado"
   ]
  },
  {
   "cell_type": "code",
   "execution_count": 43,
   "metadata": {},
   "outputs": [],
   "source": [
    "from sklearn.pipeline import Pipeline, FunctionTransformer\n",
    "from sklearn.compose import ColumnTransformer\n",
    "from sklearn.preprocessing import StandardScaler\n",
    "from joblib import dump, load"
   ]
  },
  {
   "cell_type": "code",
   "execution_count": 50,
   "metadata": {},
   "outputs": [],
   "source": [
    "preproccessor = Pipeline(\n",
    "    [\n",
    "        (\"tokenize\", FunctionTransformer(\n",
    "            tokenize, validate=False)),\n",
    "        (\"clean\", FunctionTransformer(\n",
    "            clean_process, validate=False)),\n",
    "        (\"vectorize\", FunctionTransformer(clean_vectorize, validate=False, kw_args={\"vectorizer\": vectorizer})),\n",
    "    ]\n",
    ")"
   ]
  },
  {
   "cell_type": "code",
   "execution_count": 51,
   "metadata": {},
   "outputs": [],
   "source": [
    "pipeline = Pipeline(\n",
    "    [\n",
    "        (\"preproccessor\", preproccessor),\n",
    "        (\"model\", SVC(kernel='linear', probability=False))\n",
    "    ]\n",
    ")  "
   ]
  },
  {
   "cell_type": "code",
   "execution_count": 52,
   "metadata": {},
   "outputs": [
    {
     "data": {
      "text/html": [
       "<style>#sk-container-id-2 {\n",
       "  /* Definition of color scheme common for light and dark mode */\n",
       "  --sklearn-color-text: black;\n",
       "  --sklearn-color-line: gray;\n",
       "  /* Definition of color scheme for unfitted estimators */\n",
       "  --sklearn-color-unfitted-level-0: #fff5e6;\n",
       "  --sklearn-color-unfitted-level-1: #f6e4d2;\n",
       "  --sklearn-color-unfitted-level-2: #ffe0b3;\n",
       "  --sklearn-color-unfitted-level-3: chocolate;\n",
       "  /* Definition of color scheme for fitted estimators */\n",
       "  --sklearn-color-fitted-level-0: #f0f8ff;\n",
       "  --sklearn-color-fitted-level-1: #d4ebff;\n",
       "  --sklearn-color-fitted-level-2: #b3dbfd;\n",
       "  --sklearn-color-fitted-level-3: cornflowerblue;\n",
       "\n",
       "  /* Specific color for light theme */\n",
       "  --sklearn-color-text-on-default-background: var(--sg-text-color, var(--theme-code-foreground, var(--jp-content-font-color1, black)));\n",
       "  --sklearn-color-background: var(--sg-background-color, var(--theme-background, var(--jp-layout-color0, white)));\n",
       "  --sklearn-color-border-box: var(--sg-text-color, var(--theme-code-foreground, var(--jp-content-font-color1, black)));\n",
       "  --sklearn-color-icon: #696969;\n",
       "\n",
       "  @media (prefers-color-scheme: dark) {\n",
       "    /* Redefinition of color scheme for dark theme */\n",
       "    --sklearn-color-text-on-default-background: var(--sg-text-color, var(--theme-code-foreground, var(--jp-content-font-color1, white)));\n",
       "    --sklearn-color-background: var(--sg-background-color, var(--theme-background, var(--jp-layout-color0, #111)));\n",
       "    --sklearn-color-border-box: var(--sg-text-color, var(--theme-code-foreground, var(--jp-content-font-color1, white)));\n",
       "    --sklearn-color-icon: #878787;\n",
       "  }\n",
       "}\n",
       "\n",
       "#sk-container-id-2 {\n",
       "  color: var(--sklearn-color-text);\n",
       "}\n",
       "\n",
       "#sk-container-id-2 pre {\n",
       "  padding: 0;\n",
       "}\n",
       "\n",
       "#sk-container-id-2 input.sk-hidden--visually {\n",
       "  border: 0;\n",
       "  clip: rect(1px 1px 1px 1px);\n",
       "  clip: rect(1px, 1px, 1px, 1px);\n",
       "  height: 1px;\n",
       "  margin: -1px;\n",
       "  overflow: hidden;\n",
       "  padding: 0;\n",
       "  position: absolute;\n",
       "  width: 1px;\n",
       "}\n",
       "\n",
       "#sk-container-id-2 div.sk-dashed-wrapped {\n",
       "  border: 1px dashed var(--sklearn-color-line);\n",
       "  margin: 0 0.4em 0.5em 0.4em;\n",
       "  box-sizing: border-box;\n",
       "  padding-bottom: 0.4em;\n",
       "  background-color: var(--sklearn-color-background);\n",
       "}\n",
       "\n",
       "#sk-container-id-2 div.sk-container {\n",
       "  /* jupyter's `normalize.less` sets `[hidden] { display: none; }`\n",
       "     but bootstrap.min.css set `[hidden] { display: none !important; }`\n",
       "     so we also need the `!important` here to be able to override the\n",
       "     default hidden behavior on the sphinx rendered scikit-learn.org.\n",
       "     See: https://github.com/scikit-learn/scikit-learn/issues/21755 */\n",
       "  display: inline-block !important;\n",
       "  position: relative;\n",
       "}\n",
       "\n",
       "#sk-container-id-2 div.sk-text-repr-fallback {\n",
       "  display: none;\n",
       "}\n",
       "\n",
       "div.sk-parallel-item,\n",
       "div.sk-serial,\n",
       "div.sk-item {\n",
       "  /* draw centered vertical line to link estimators */\n",
       "  background-image: linear-gradient(var(--sklearn-color-text-on-default-background), var(--sklearn-color-text-on-default-background));\n",
       "  background-size: 2px 100%;\n",
       "  background-repeat: no-repeat;\n",
       "  background-position: center center;\n",
       "}\n",
       "\n",
       "/* Parallel-specific style estimator block */\n",
       "\n",
       "#sk-container-id-2 div.sk-parallel-item::after {\n",
       "  content: \"\";\n",
       "  width: 100%;\n",
       "  border-bottom: 2px solid var(--sklearn-color-text-on-default-background);\n",
       "  flex-grow: 1;\n",
       "}\n",
       "\n",
       "#sk-container-id-2 div.sk-parallel {\n",
       "  display: flex;\n",
       "  align-items: stretch;\n",
       "  justify-content: center;\n",
       "  background-color: var(--sklearn-color-background);\n",
       "  position: relative;\n",
       "}\n",
       "\n",
       "#sk-container-id-2 div.sk-parallel-item {\n",
       "  display: flex;\n",
       "  flex-direction: column;\n",
       "}\n",
       "\n",
       "#sk-container-id-2 div.sk-parallel-item:first-child::after {\n",
       "  align-self: flex-end;\n",
       "  width: 50%;\n",
       "}\n",
       "\n",
       "#sk-container-id-2 div.sk-parallel-item:last-child::after {\n",
       "  align-self: flex-start;\n",
       "  width: 50%;\n",
       "}\n",
       "\n",
       "#sk-container-id-2 div.sk-parallel-item:only-child::after {\n",
       "  width: 0;\n",
       "}\n",
       "\n",
       "/* Serial-specific style estimator block */\n",
       "\n",
       "#sk-container-id-2 div.sk-serial {\n",
       "  display: flex;\n",
       "  flex-direction: column;\n",
       "  align-items: center;\n",
       "  background-color: var(--sklearn-color-background);\n",
       "  padding-right: 1em;\n",
       "  padding-left: 1em;\n",
       "}\n",
       "\n",
       "\n",
       "/* Toggleable style: style used for estimator/Pipeline/ColumnTransformer box that is\n",
       "clickable and can be expanded/collapsed.\n",
       "- Pipeline and ColumnTransformer use this feature and define the default style\n",
       "- Estimators will overwrite some part of the style using the `sk-estimator` class\n",
       "*/\n",
       "\n",
       "/* Pipeline and ColumnTransformer style (default) */\n",
       "\n",
       "#sk-container-id-2 div.sk-toggleable {\n",
       "  /* Default theme specific background. It is overwritten whether we have a\n",
       "  specific estimator or a Pipeline/ColumnTransformer */\n",
       "  background-color: var(--sklearn-color-background);\n",
       "}\n",
       "\n",
       "/* Toggleable label */\n",
       "#sk-container-id-2 label.sk-toggleable__label {\n",
       "  cursor: pointer;\n",
       "  display: block;\n",
       "  width: 100%;\n",
       "  margin-bottom: 0;\n",
       "  padding: 0.5em;\n",
       "  box-sizing: border-box;\n",
       "  text-align: center;\n",
       "}\n",
       "\n",
       "#sk-container-id-2 label.sk-toggleable__label-arrow:before {\n",
       "  /* Arrow on the left of the label */\n",
       "  content: \"▸\";\n",
       "  float: left;\n",
       "  margin-right: 0.25em;\n",
       "  color: var(--sklearn-color-icon);\n",
       "}\n",
       "\n",
       "#sk-container-id-2 label.sk-toggleable__label-arrow:hover:before {\n",
       "  color: var(--sklearn-color-text);\n",
       "}\n",
       "\n",
       "/* Toggleable content - dropdown */\n",
       "\n",
       "#sk-container-id-2 div.sk-toggleable__content {\n",
       "  max-height: 0;\n",
       "  max-width: 0;\n",
       "  overflow: hidden;\n",
       "  text-align: left;\n",
       "  /* unfitted */\n",
       "  background-color: var(--sklearn-color-unfitted-level-0);\n",
       "}\n",
       "\n",
       "#sk-container-id-2 div.sk-toggleable__content.fitted {\n",
       "  /* fitted */\n",
       "  background-color: var(--sklearn-color-fitted-level-0);\n",
       "}\n",
       "\n",
       "#sk-container-id-2 div.sk-toggleable__content pre {\n",
       "  margin: 0.2em;\n",
       "  border-radius: 0.25em;\n",
       "  color: var(--sklearn-color-text);\n",
       "  /* unfitted */\n",
       "  background-color: var(--sklearn-color-unfitted-level-0);\n",
       "}\n",
       "\n",
       "#sk-container-id-2 div.sk-toggleable__content.fitted pre {\n",
       "  /* unfitted */\n",
       "  background-color: var(--sklearn-color-fitted-level-0);\n",
       "}\n",
       "\n",
       "#sk-container-id-2 input.sk-toggleable__control:checked~div.sk-toggleable__content {\n",
       "  /* Expand drop-down */\n",
       "  max-height: 200px;\n",
       "  max-width: 100%;\n",
       "  overflow: auto;\n",
       "}\n",
       "\n",
       "#sk-container-id-2 input.sk-toggleable__control:checked~label.sk-toggleable__label-arrow:before {\n",
       "  content: \"▾\";\n",
       "}\n",
       "\n",
       "/* Pipeline/ColumnTransformer-specific style */\n",
       "\n",
       "#sk-container-id-2 div.sk-label input.sk-toggleable__control:checked~label.sk-toggleable__label {\n",
       "  color: var(--sklearn-color-text);\n",
       "  background-color: var(--sklearn-color-unfitted-level-2);\n",
       "}\n",
       "\n",
       "#sk-container-id-2 div.sk-label.fitted input.sk-toggleable__control:checked~label.sk-toggleable__label {\n",
       "  background-color: var(--sklearn-color-fitted-level-2);\n",
       "}\n",
       "\n",
       "/* Estimator-specific style */\n",
       "\n",
       "/* Colorize estimator box */\n",
       "#sk-container-id-2 div.sk-estimator input.sk-toggleable__control:checked~label.sk-toggleable__label {\n",
       "  /* unfitted */\n",
       "  background-color: var(--sklearn-color-unfitted-level-2);\n",
       "}\n",
       "\n",
       "#sk-container-id-2 div.sk-estimator.fitted input.sk-toggleable__control:checked~label.sk-toggleable__label {\n",
       "  /* fitted */\n",
       "  background-color: var(--sklearn-color-fitted-level-2);\n",
       "}\n",
       "\n",
       "#sk-container-id-2 div.sk-label label.sk-toggleable__label,\n",
       "#sk-container-id-2 div.sk-label label {\n",
       "  /* The background is the default theme color */\n",
       "  color: var(--sklearn-color-text-on-default-background);\n",
       "}\n",
       "\n",
       "/* On hover, darken the color of the background */\n",
       "#sk-container-id-2 div.sk-label:hover label.sk-toggleable__label {\n",
       "  color: var(--sklearn-color-text);\n",
       "  background-color: var(--sklearn-color-unfitted-level-2);\n",
       "}\n",
       "\n",
       "/* Label box, darken color on hover, fitted */\n",
       "#sk-container-id-2 div.sk-label.fitted:hover label.sk-toggleable__label.fitted {\n",
       "  color: var(--sklearn-color-text);\n",
       "  background-color: var(--sklearn-color-fitted-level-2);\n",
       "}\n",
       "\n",
       "/* Estimator label */\n",
       "\n",
       "#sk-container-id-2 div.sk-label label {\n",
       "  font-family: monospace;\n",
       "  font-weight: bold;\n",
       "  display: inline-block;\n",
       "  line-height: 1.2em;\n",
       "}\n",
       "\n",
       "#sk-container-id-2 div.sk-label-container {\n",
       "  text-align: center;\n",
       "}\n",
       "\n",
       "/* Estimator-specific */\n",
       "#sk-container-id-2 div.sk-estimator {\n",
       "  font-family: monospace;\n",
       "  border: 1px dotted var(--sklearn-color-border-box);\n",
       "  border-radius: 0.25em;\n",
       "  box-sizing: border-box;\n",
       "  margin-bottom: 0.5em;\n",
       "  /* unfitted */\n",
       "  background-color: var(--sklearn-color-unfitted-level-0);\n",
       "}\n",
       "\n",
       "#sk-container-id-2 div.sk-estimator.fitted {\n",
       "  /* fitted */\n",
       "  background-color: var(--sklearn-color-fitted-level-0);\n",
       "}\n",
       "\n",
       "/* on hover */\n",
       "#sk-container-id-2 div.sk-estimator:hover {\n",
       "  /* unfitted */\n",
       "  background-color: var(--sklearn-color-unfitted-level-2);\n",
       "}\n",
       "\n",
       "#sk-container-id-2 div.sk-estimator.fitted:hover {\n",
       "  /* fitted */\n",
       "  background-color: var(--sklearn-color-fitted-level-2);\n",
       "}\n",
       "\n",
       "/* Specification for estimator info (e.g. \"i\" and \"?\") */\n",
       "\n",
       "/* Common style for \"i\" and \"?\" */\n",
       "\n",
       ".sk-estimator-doc-link,\n",
       "a:link.sk-estimator-doc-link,\n",
       "a:visited.sk-estimator-doc-link {\n",
       "  float: right;\n",
       "  font-size: smaller;\n",
       "  line-height: 1em;\n",
       "  font-family: monospace;\n",
       "  background-color: var(--sklearn-color-background);\n",
       "  border-radius: 1em;\n",
       "  height: 1em;\n",
       "  width: 1em;\n",
       "  text-decoration: none !important;\n",
       "  margin-left: 1ex;\n",
       "  /* unfitted */\n",
       "  border: var(--sklearn-color-unfitted-level-1) 1pt solid;\n",
       "  color: var(--sklearn-color-unfitted-level-1);\n",
       "}\n",
       "\n",
       ".sk-estimator-doc-link.fitted,\n",
       "a:link.sk-estimator-doc-link.fitted,\n",
       "a:visited.sk-estimator-doc-link.fitted {\n",
       "  /* fitted */\n",
       "  border: var(--sklearn-color-fitted-level-1) 1pt solid;\n",
       "  color: var(--sklearn-color-fitted-level-1);\n",
       "}\n",
       "\n",
       "/* On hover */\n",
       "div.sk-estimator:hover .sk-estimator-doc-link:hover,\n",
       ".sk-estimator-doc-link:hover,\n",
       "div.sk-label-container:hover .sk-estimator-doc-link:hover,\n",
       ".sk-estimator-doc-link:hover {\n",
       "  /* unfitted */\n",
       "  background-color: var(--sklearn-color-unfitted-level-3);\n",
       "  color: var(--sklearn-color-background);\n",
       "  text-decoration: none;\n",
       "}\n",
       "\n",
       "div.sk-estimator.fitted:hover .sk-estimator-doc-link.fitted:hover,\n",
       ".sk-estimator-doc-link.fitted:hover,\n",
       "div.sk-label-container:hover .sk-estimator-doc-link.fitted:hover,\n",
       ".sk-estimator-doc-link.fitted:hover {\n",
       "  /* fitted */\n",
       "  background-color: var(--sklearn-color-fitted-level-3);\n",
       "  color: var(--sklearn-color-background);\n",
       "  text-decoration: none;\n",
       "}\n",
       "\n",
       "/* Span, style for the box shown on hovering the info icon */\n",
       ".sk-estimator-doc-link span {\n",
       "  display: none;\n",
       "  z-index: 9999;\n",
       "  position: relative;\n",
       "  font-weight: normal;\n",
       "  right: .2ex;\n",
       "  padding: .5ex;\n",
       "  margin: .5ex;\n",
       "  width: min-content;\n",
       "  min-width: 20ex;\n",
       "  max-width: 50ex;\n",
       "  color: var(--sklearn-color-text);\n",
       "  box-shadow: 2pt 2pt 4pt #999;\n",
       "  /* unfitted */\n",
       "  background: var(--sklearn-color-unfitted-level-0);\n",
       "  border: .5pt solid var(--sklearn-color-unfitted-level-3);\n",
       "}\n",
       "\n",
       ".sk-estimator-doc-link.fitted span {\n",
       "  /* fitted */\n",
       "  background: var(--sklearn-color-fitted-level-0);\n",
       "  border: var(--sklearn-color-fitted-level-3);\n",
       "}\n",
       "\n",
       ".sk-estimator-doc-link:hover span {\n",
       "  display: block;\n",
       "}\n",
       "\n",
       "/* \"?\"-specific style due to the `<a>` HTML tag */\n",
       "\n",
       "#sk-container-id-2 a.estimator_doc_link {\n",
       "  float: right;\n",
       "  font-size: 1rem;\n",
       "  line-height: 1em;\n",
       "  font-family: monospace;\n",
       "  background-color: var(--sklearn-color-background);\n",
       "  border-radius: 1rem;\n",
       "  height: 1rem;\n",
       "  width: 1rem;\n",
       "  text-decoration: none;\n",
       "  /* unfitted */\n",
       "  color: var(--sklearn-color-unfitted-level-1);\n",
       "  border: var(--sklearn-color-unfitted-level-1) 1pt solid;\n",
       "}\n",
       "\n",
       "#sk-container-id-2 a.estimator_doc_link.fitted {\n",
       "  /* fitted */\n",
       "  border: var(--sklearn-color-fitted-level-1) 1pt solid;\n",
       "  color: var(--sklearn-color-fitted-level-1);\n",
       "}\n",
       "\n",
       "/* On hover */\n",
       "#sk-container-id-2 a.estimator_doc_link:hover {\n",
       "  /* unfitted */\n",
       "  background-color: var(--sklearn-color-unfitted-level-3);\n",
       "  color: var(--sklearn-color-background);\n",
       "  text-decoration: none;\n",
       "}\n",
       "\n",
       "#sk-container-id-2 a.estimator_doc_link.fitted:hover {\n",
       "  /* fitted */\n",
       "  background-color: var(--sklearn-color-fitted-level-3);\n",
       "}\n",
       "</style><div id=\"sk-container-id-2\" class=\"sk-top-container\"><div class=\"sk-text-repr-fallback\"><pre>Pipeline(steps=[(&#x27;preproccessor&#x27;,\n",
       "                 Pipeline(steps=[(&#x27;tokenize&#x27;,\n",
       "                                  FunctionTransformer(func=&lt;function tokenize at 0x00000175A9A1EE80&gt;)),\n",
       "                                 (&#x27;clean&#x27;,\n",
       "                                  FunctionTransformer(func=&lt;function clean_process at 0x00000175D173BBA0&gt;)),\n",
       "                                 (&#x27;vectorize&#x27;,\n",
       "                                  FunctionTransformer(func=&lt;function clean_vectorize at 0x00000175E0625620&gt;,\n",
       "                                                      kw_args={&#x27;vectorizer&#x27;: TfidfVectorizer()}))])),\n",
       "                (&#x27;model&#x27;, SVC(kernel=&#x27;linear&#x27;))])</pre><b>In a Jupyter environment, please rerun this cell to show the HTML representation or trust the notebook. <br />On GitHub, the HTML representation is unable to render, please try loading this page with nbviewer.org.</b></div><div class=\"sk-container\" hidden><div class=\"sk-item sk-dashed-wrapped\"><div class=\"sk-label-container\"><div class=\"sk-label fitted sk-toggleable\"><input class=\"sk-toggleable__control sk-hidden--visually\" id=\"sk-estimator-id-2\" type=\"checkbox\" ><label for=\"sk-estimator-id-2\" class=\"sk-toggleable__label fitted sk-toggleable__label-arrow fitted\">&nbsp;&nbsp;Pipeline<a class=\"sk-estimator-doc-link fitted\" rel=\"noreferrer\" target=\"_blank\" href=\"https://scikit-learn.org/1.4/modules/generated/sklearn.pipeline.Pipeline.html\">?<span>Documentation for Pipeline</span></a><span class=\"sk-estimator-doc-link fitted\">i<span>Fitted</span></span></label><div class=\"sk-toggleable__content fitted\"><pre>Pipeline(steps=[(&#x27;preproccessor&#x27;,\n",
       "                 Pipeline(steps=[(&#x27;tokenize&#x27;,\n",
       "                                  FunctionTransformer(func=&lt;function tokenize at 0x00000175A9A1EE80&gt;)),\n",
       "                                 (&#x27;clean&#x27;,\n",
       "                                  FunctionTransformer(func=&lt;function clean_process at 0x00000175D173BBA0&gt;)),\n",
       "                                 (&#x27;vectorize&#x27;,\n",
       "                                  FunctionTransformer(func=&lt;function clean_vectorize at 0x00000175E0625620&gt;,\n",
       "                                                      kw_args={&#x27;vectorizer&#x27;: TfidfVectorizer()}))])),\n",
       "                (&#x27;model&#x27;, SVC(kernel=&#x27;linear&#x27;))])</pre></div> </div></div><div class=\"sk-serial\"><div class=\"sk-item\"><div class=\"sk-label-container\"><div class=\"sk-label fitted sk-toggleable\"><input class=\"sk-toggleable__control sk-hidden--visually\" id=\"sk-estimator-id-3\" type=\"checkbox\" ><label for=\"sk-estimator-id-3\" class=\"sk-toggleable__label fitted sk-toggleable__label-arrow fitted\">&nbsp;preproccessor: Pipeline<a class=\"sk-estimator-doc-link fitted\" rel=\"noreferrer\" target=\"_blank\" href=\"https://scikit-learn.org/1.4/modules/generated/sklearn.pipeline.Pipeline.html\">?<span>Documentation for preproccessor: Pipeline</span></a></label><div class=\"sk-toggleable__content fitted\"><pre>Pipeline(steps=[(&#x27;tokenize&#x27;,\n",
       "                 FunctionTransformer(func=&lt;function tokenize at 0x00000175A9A1EE80&gt;)),\n",
       "                (&#x27;clean&#x27;,\n",
       "                 FunctionTransformer(func=&lt;function clean_process at 0x00000175D173BBA0&gt;)),\n",
       "                (&#x27;vectorize&#x27;,\n",
       "                 FunctionTransformer(func=&lt;function clean_vectorize at 0x00000175E0625620&gt;,\n",
       "                                     kw_args={&#x27;vectorizer&#x27;: TfidfVectorizer()}))])</pre></div> </div></div><div class=\"sk-serial\"><div class=\"sk-item\"><div class=\"sk-estimator fitted sk-toggleable\"><input class=\"sk-toggleable__control sk-hidden--visually\" id=\"sk-estimator-id-4\" type=\"checkbox\" ><label for=\"sk-estimator-id-4\" class=\"sk-toggleable__label fitted sk-toggleable__label-arrow fitted\">&nbsp;FunctionTransformer<a class=\"sk-estimator-doc-link fitted\" rel=\"noreferrer\" target=\"_blank\" href=\"https://scikit-learn.org/1.4/modules/generated/sklearn.preprocessing.FunctionTransformer.html\">?<span>Documentation for FunctionTransformer</span></a></label><div class=\"sk-toggleable__content fitted\"><pre>FunctionTransformer(func=&lt;function tokenize at 0x00000175A9A1EE80&gt;)</pre></div> </div></div><div class=\"sk-item\"><div class=\"sk-estimator fitted sk-toggleable\"><input class=\"sk-toggleable__control sk-hidden--visually\" id=\"sk-estimator-id-5\" type=\"checkbox\" ><label for=\"sk-estimator-id-5\" class=\"sk-toggleable__label fitted sk-toggleable__label-arrow fitted\">&nbsp;FunctionTransformer<a class=\"sk-estimator-doc-link fitted\" rel=\"noreferrer\" target=\"_blank\" href=\"https://scikit-learn.org/1.4/modules/generated/sklearn.preprocessing.FunctionTransformer.html\">?<span>Documentation for FunctionTransformer</span></a></label><div class=\"sk-toggleable__content fitted\"><pre>FunctionTransformer(func=&lt;function clean_process at 0x00000175D173BBA0&gt;)</pre></div> </div></div><div class=\"sk-item\"><div class=\"sk-estimator fitted sk-toggleable\"><input class=\"sk-toggleable__control sk-hidden--visually\" id=\"sk-estimator-id-6\" type=\"checkbox\" ><label for=\"sk-estimator-id-6\" class=\"sk-toggleable__label fitted sk-toggleable__label-arrow fitted\">&nbsp;FunctionTransformer<a class=\"sk-estimator-doc-link fitted\" rel=\"noreferrer\" target=\"_blank\" href=\"https://scikit-learn.org/1.4/modules/generated/sklearn.preprocessing.FunctionTransformer.html\">?<span>Documentation for FunctionTransformer</span></a></label><div class=\"sk-toggleable__content fitted\"><pre>FunctionTransformer(func=&lt;function clean_vectorize at 0x00000175E0625620&gt;,\n",
       "                    kw_args={&#x27;vectorizer&#x27;: TfidfVectorizer()})</pre></div> </div></div></div></div><div class=\"sk-item\"><div class=\"sk-estimator fitted sk-toggleable\"><input class=\"sk-toggleable__control sk-hidden--visually\" id=\"sk-estimator-id-7\" type=\"checkbox\" ><label for=\"sk-estimator-id-7\" class=\"sk-toggleable__label fitted sk-toggleable__label-arrow fitted\">&nbsp;SVC<a class=\"sk-estimator-doc-link fitted\" rel=\"noreferrer\" target=\"_blank\" href=\"https://scikit-learn.org/1.4/modules/generated/sklearn.svm.SVC.html\">?<span>Documentation for SVC</span></a></label><div class=\"sk-toggleable__content fitted\"><pre>SVC(kernel=&#x27;linear&#x27;)</pre></div> </div></div></div></div></div></div>"
      ],
      "text/plain": [
       "Pipeline(steps=[('preproccessor',\n",
       "                 Pipeline(steps=[('tokenize',\n",
       "                                  FunctionTransformer(func=<function tokenize at 0x00000175A9A1EE80>)),\n",
       "                                 ('clean',\n",
       "                                  FunctionTransformer(func=<function clean_process at 0x00000175D173BBA0>)),\n",
       "                                 ('vectorize',\n",
       "                                  FunctionTransformer(func=<function clean_vectorize at 0x00000175E0625620>,\n",
       "                                                      kw_args={'vectorizer': TfidfVectorizer()}))])),\n",
       "                ('model', SVC(kernel='linear'))])"
      ]
     },
     "execution_count": 52,
     "metadata": {},
     "output_type": "execute_result"
    }
   ],
   "source": [
    "X = df\n",
    "Y = df['Class']\n",
    "\n",
    "pipeline.fit(X, Y)"
   ]
  },
  {
   "cell_type": "code",
   "execution_count": 53,
   "metadata": {},
   "outputs": [],
   "source": [
    "pipeline_file = \"result/model.joblib\"\n",
    "\n",
    "dump(pipeline, pipeline_file)\n",
    "pipeline_loaded = load(pipeline_file)"
   ]
  },
  {
   "cell_type": "markdown",
   "metadata": {},
   "source": [
    "### Etiquetado de los datos propocionados"
   ]
  },
  {
   "cell_type": "markdown",
   "metadata": {},
   "source": [
    "Para realizar el etiquetado de los datos con el modelo construido y el vectorizador usado, primero se lee el archivo de datos sin etiquetar."
   ]
  },
  {
   "cell_type": "code",
   "execution_count": 54,
   "metadata": {},
   "outputs": [],
   "source": [
    "df_etiquetado = pd.read_csv('./data/particion_prueba_estudiantes.csv', sep=',', encoding = 'utf-8')"
   ]
  },
  {
   "cell_type": "markdown",
   "metadata": {},
   "source": [
    "Se hacen los pasos de tokenización, limpieza de datos y la transformación en vectores para poder predecir la clase de cada una de las reseñas dadas."
   ]
  },
  {
   "cell_type": "markdown",
   "metadata": {},
   "source": [
    "Se hace la predicción de las clases a las que pertenecen los comentarios, la cual se ve de la siguiente forma:"
   ]
  },
  {
   "cell_type": "code",
   "execution_count": 55,
   "metadata": {},
   "outputs": [
    {
     "data": {
      "text/html": [
       "<div>\n",
       "<style scoped>\n",
       "    .dataframe tbody tr th:only-of-type {\n",
       "        vertical-align: middle;\n",
       "    }\n",
       "\n",
       "    .dataframe tbody tr th {\n",
       "        vertical-align: top;\n",
       "    }\n",
       "\n",
       "    .dataframe thead th {\n",
       "        text-align: right;\n",
       "    }\n",
       "</style>\n",
       "<table border=\"1\" class=\"dataframe\">\n",
       "  <thead>\n",
       "    <tr style=\"text-align: right;\">\n",
       "      <th></th>\n",
       "      <th>Review</th>\n",
       "      <th>Class</th>\n",
       "    </tr>\n",
       "  </thead>\n",
       "  <tbody>\n",
       "    <tr>\n",
       "      <th>0</th>\n",
       "      <td>La primera noche nos encontramos en la habitación con un nido (5) de cucarachas muertas y la alfombra muy sucia...que por cierto nunca limpiaron hasta que reclamamos.  La cena de fin de año fue un bufete que acabó en un tremendo desorden por el excesivo número de mesas vendidas, no se podía caminar para ir a servirte la comida, para luego encontrarte con bandejas vacías,  mi esposa y yo y otra pareja \"NO CENAMOS\" porque nos encontramos con puras bandejas vacías!!...pagamos $2800 pesos por por pareja por nada!!!  El servicio del restaurante pesimo, pesimo,pesimo....se tardaron muchísimo tiempo en atendernos, nos trajeron el desayuno en partes, nunca nos dieron el café que pedimos desde que llegamos....un pésimo servicio  El frigobar vacío y después de reclamar lo surtieron pero_x0085_</td>\n",
       "      <td>1</td>\n",
       "    </tr>\n",
       "    <tr>\n",
       "      <th>1</th>\n",
       "      <td>A una calle de catedral con platillos tradicionales, tipo Gourmet, de buen sabor y calidad.\\nSi bien ofrecen una carta con los platillos más representativos de cada temporada como mole de caderas, poblano, chinicuiles, chiles en nogada, escamoles y cemitas; son principalmente para degustación, no...Más</td>\n",
       "      <td>5</td>\n",
       "    </tr>\n",
       "    <tr>\n",
       "      <th>2</th>\n",
       "      <td>Porciones muy miserables\\nAgua con sabor a cloro \\nMuy distraídos los meseros \\nNo llena las expectativas\\nHay mejores opciones</td>\n",
       "      <td>2</td>\n",
       "    </tr>\n",
       "    <tr>\n",
       "      <th>3</th>\n",
       "      <td>Cartagena encanta. De todas las ciudades coloniales que hemos visitado es la más linda y mejor conservada. Recomiendo recorrerla tanto de día como de noche ya que son visiones distintas que vale la pena vivir. Llena de vida, tiendas, restaurantes, colorida, vibrante, calles y rincones que en cada momento guardan una sorpresa. Mi calificación habría sido excelente sino fuera por algunos detalles que deberían mejorar. Lamentablemente falta preocupación por la limpieza de las calles (problema que se repite en el resto de la ciudad) y un mejoramiento en los alcantarillados de las aguas servidas. Además por la estrechez de las calles deberían habilitar vías exclusivas para peatones.</td>\n",
       "      <td>5</td>\n",
       "    </tr>\n",
       "    <tr>\n",
       "      <th>4</th>\n",
       "      <td>Ibamos con mucha ilusion de disfrutar el espectaculo de luz y sonido pero la verdad nos decepcionó,te ubican en una esquina a la entrada de las ruinas,y no al centro por lo que no puedes apreciar casi nada,las personas se paran a tomar fotografias debido a que no se alcanza a ver nada si estas sentado,al inicio y al final del espectaculo no dejan prendidas las luces para que puedas tomar fotografias, al contrario queda todo en obscuridad y las personas de la tercera edad tiene problemas para salir pues no iluminan ni el camino para salida, deberian poner aunque sea unas antorchas para iluminar,la verdad no lo recomiendo es una pena que una maravilla como lo es chichen itza tenga un espectaculo tan carente .</td>\n",
       "      <td>3</td>\n",
       "    </tr>\n",
       "  </tbody>\n",
       "</table>\n",
       "</div>"
      ],
      "text/plain": [
       "                                                                                                                                                                                                                                                                                                                                                                                                                                                                                                                                                                                                                                                                                                                                                                                                                       Review  \\\n",
       "0  La primera noche nos encontramos en la habitación con un nido (5) de cucarachas muertas y la alfombra muy sucia...que por cierto nunca limpiaron hasta que reclamamos.  La cena de fin de año fue un bufete que acabó en un tremendo desorden por el excesivo número de mesas vendidas, no se podía caminar para ir a servirte la comida, para luego encontrarte con bandejas vacías,  mi esposa y yo y otra pareja \"NO CENAMOS\" porque nos encontramos con puras bandejas vacías!!...pagamos $2800 pesos por por pareja por nada!!!  El servicio del restaurante pesimo, pesimo,pesimo....se tardaron muchísimo tiempo en atendernos, nos trajeron el desayuno en partes, nunca nos dieron el café que pedimos desde que llegamos....un pésimo servicio  El frigobar vacío y después de reclamar lo surtieron pero_x0085_   \n",
       "1                                                                                                                                                                                                                                                                                                                                                                                                                                                                                                             A una calle de catedral con platillos tradicionales, tipo Gourmet, de buen sabor y calidad.\\nSi bien ofrecen una carta con los platillos más representativos de cada temporada como mole de caderas, poblano, chinicuiles, chiles en nogada, escamoles y cemitas; son principalmente para degustación, no...Más   \n",
       "2                                                                                                                                                                                                                                                                                                                                                                                                                                                                                                                                                                                                                                                                                             Porciones muy miserables\\nAgua con sabor a cloro \\nMuy distraídos los meseros \\nNo llena las expectativas\\nHay mejores opciones   \n",
       "3                                                                                                              Cartagena encanta. De todas las ciudades coloniales que hemos visitado es la más linda y mejor conservada. Recomiendo recorrerla tanto de día como de noche ya que son visiones distintas que vale la pena vivir. Llena de vida, tiendas, restaurantes, colorida, vibrante, calles y rincones que en cada momento guardan una sorpresa. Mi calificación habría sido excelente sino fuera por algunos detalles que deberían mejorar. Lamentablemente falta preocupación por la limpieza de las calles (problema que se repite en el resto de la ciudad) y un mejoramiento en los alcantarillados de las aguas servidas. Además por la estrechez de las calles deberían habilitar vías exclusivas para peatones.   \n",
       "4                                                                                Ibamos con mucha ilusion de disfrutar el espectaculo de luz y sonido pero la verdad nos decepcionó,te ubican en una esquina a la entrada de las ruinas,y no al centro por lo que no puedes apreciar casi nada,las personas se paran a tomar fotografias debido a que no se alcanza a ver nada si estas sentado,al inicio y al final del espectaculo no dejan prendidas las luces para que puedas tomar fotografias, al contrario queda todo en obscuridad y las personas de la tercera edad tiene problemas para salir pues no iluminan ni el camino para salida, deberian poner aunque sea unas antorchas para iluminar,la verdad no lo recomiendo es una pena que una maravilla como lo es chichen itza tenga un espectaculo tan carente .   \n",
       "\n",
       "   Class  \n",
       "0      1  \n",
       "1      5  \n",
       "2      2  \n",
       "3      5  \n",
       "4      3  "
      ]
     },
     "execution_count": 55,
     "metadata": {},
     "output_type": "execute_result"
    }
   ],
   "source": [
    "df_etiquetado['Class'] = pipeline_loaded.predict(df_etiquetado)\n",
    "df_etiquetado.head()"
   ]
  },
  {
   "cell_type": "markdown",
   "metadata": {},
   "source": [
    "Igualmente se observa un ejemplo de comentario por cada una de las clases para validar el significado de estas y observar si el clasificador lo está haciendo de forma correcta."
   ]
  },
  {
   "cell_type": "code",
   "execution_count": 56,
   "metadata": {},
   "outputs": [
    {
     "data": {
      "text/html": [
       "<div>\n",
       "<style scoped>\n",
       "    .dataframe tbody tr th:only-of-type {\n",
       "        vertical-align: middle;\n",
       "    }\n",
       "\n",
       "    .dataframe tbody tr th {\n",
       "        vertical-align: top;\n",
       "    }\n",
       "\n",
       "    .dataframe thead th {\n",
       "        text-align: right;\n",
       "    }\n",
       "</style>\n",
       "<table border=\"1\" class=\"dataframe\">\n",
       "  <thead>\n",
       "    <tr style=\"text-align: right;\">\n",
       "      <th></th>\n",
       "      <th>Clase</th>\n",
       "      <th>Comentario</th>\n",
       "    </tr>\n",
       "  </thead>\n",
       "  <tbody>\n",
       "    <tr>\n",
       "      <th>0</th>\n",
       "      <td>1</td>\n",
       "      <td>el sábado 12 de 11 del 2016.\\ndesde que llegas el personal tiene el peor trato, no saben ingles. y al parecer tampoco español, 5 veces me preguntaron si mi reservacion era alli, como si despues de la 3 o 4 vez que me preguntaron mi respuesta seria diferente. por mas que les comprobe con boucher, intinerario y pago, no sabian en donde estaba mi reservacion, y decian que era hasta dentro de un mes, obvio fue error de ellos, pero nunca lo admitieron. Llegue a las 12 pm y no me encontraron habitacion hasta la 1pm, prometieron tenerla antes y no fue hasta despues de las 3 pm debido a la ocupacion que tenian, el hotel y los precios son de lujo pero el trato es de lo peor. tuve que hablar con 3 recepcionistas y nadie podia hacer nada. el gerente nunca llego, el supervisor nunca aparecio. y simplemente volteaban para otro lado cada ves que les poreguntaba por mi habitacion. practicamente 4 horas perdidas de mi dia, que no se pudo recuperar. en los restaurantes los meseros, sobretodo la mañana volteaban para otro lado al momento de pedir servcio, por mas desocupado que estaba el lugar no ofrecian ni una mesa, pero si ven a un estado unidense pasar hasta alfombra roja le tendian, no entiendo por que en este pasi en esta zona en especial hay tan mal trato a sus propios paisanos.\\ntotalmente desagradable mi experiencia en este hotel. nada recomendable si eres de mexico.\\nY NO HAY PLAYA COMO LO DICE EN INTERNET. TE TIENEN QUE TRASLADAR A EL OTRO HOTEL PARA ESO.....</td>\n",
       "    </tr>\n",
       "    <tr>\n",
       "      <th>2</th>\n",
       "      <td>2</td>\n",
       "      <td>El personal de recepción es grosero y desinteresado. Pero las camareras, camareros y todo el personal era fabuloso. El hotel es precioso, pero las instalaciones y accesorios se caen a pedazos como es la Habana. Necesidades de un millón de dólares para poner justo. Mi limpieza Carlos era genial y me dejaron toallas modelos cada día. me hubiera gustado ver fotos de. Los coches clásicos, ver en fotos son un mito. Son realmente cubos de óxido. Cuba es el lugar más caro que he visitado. Ten cuidado. Todo cuesta!!!.  Incluso lindas fotos si trad vestidas con gente en la calle a tomar fotos.estoy casi 60 y nunca volver de nuevo en mi vida porque le llevará 10 años y miles de millones de dólares para restaurar esta ciudad beautifil</td>\n",
       "    </tr>\n",
       "    <tr>\n",
       "      <th>3</th>\n",
       "      <td>3</td>\n",
       "      <td>Me pareció muy simple y limitado en su oferta de productos. No se veía limpio.Lo que ahí se veía se encuentra en cualquier parte del país.</td>\n",
       "    </tr>\n",
       "    <tr>\n",
       "      <th>4</th>\n",
       "      <td>4</td>\n",
       "      <td>Un hotel agradable con una buena ubicación para recorrer el Centro Histórico de Puebla sin tener que usar el vehículo. Le hace falta un servicio de café de cortesía y la alberca es muy pequeña, pero nos funcionó muy bien para conocer algunos museos, iglesias y sitios de interés sin tener que hacer uso del vehículo.</td>\n",
       "    </tr>\n",
       "    <tr>\n",
       "      <th>1</th>\n",
       "      <td>5</td>\n",
       "      <td>Cartagena encanta. De todas las ciudades coloniales que hemos visitado es la más linda y mejor conservada. Recomiendo recorrerla tanto de día como de noche ya que son visiones distintas que vale la pena vivir. Llena de vida, tiendas, restaurantes, colorida, vibrante, calles y rincones que en cada momento guardan una sorpresa. Mi calificación habría sido excelente sino fuera por algunos detalles que deberían mejorar. Lamentablemente falta preocupación por la limpieza de las calles (problema que se repite en el resto de la ciudad) y un mejoramiento en los alcantarillados de las aguas servidas. Además por la estrechez de las calles deberían habilitar vías exclusivas para peatones.</td>\n",
       "    </tr>\n",
       "  </tbody>\n",
       "</table>\n",
       "</div>"
      ],
      "text/plain": [
       "   Clase  \\\n",
       "0      1   \n",
       "2      2   \n",
       "3      3   \n",
       "4      4   \n",
       "1      5   \n",
       "\n",
       "                                                                                                                                                                                                                                                                                                                                                                                                                                                                                                                                                                                                                                                                                                                                                                                                                                                                                                                                                                                                                                                                                                                                                                                                                                                                                                                                                                                                                                                                                                                             Comentario  \n",
       "0  el sábado 12 de 11 del 2016.\\ndesde que llegas el personal tiene el peor trato, no saben ingles. y al parecer tampoco español, 5 veces me preguntaron si mi reservacion era alli, como si despues de la 3 o 4 vez que me preguntaron mi respuesta seria diferente. por mas que les comprobe con boucher, intinerario y pago, no sabian en donde estaba mi reservacion, y decian que era hasta dentro de un mes, obvio fue error de ellos, pero nunca lo admitieron. Llegue a las 12 pm y no me encontraron habitacion hasta la 1pm, prometieron tenerla antes y no fue hasta despues de las 3 pm debido a la ocupacion que tenian, el hotel y los precios son de lujo pero el trato es de lo peor. tuve que hablar con 3 recepcionistas y nadie podia hacer nada. el gerente nunca llego, el supervisor nunca aparecio. y simplemente volteaban para otro lado cada ves que les poreguntaba por mi habitacion. practicamente 4 horas perdidas de mi dia, que no se pudo recuperar. en los restaurantes los meseros, sobretodo la mañana volteaban para otro lado al momento de pedir servcio, por mas desocupado que estaba el lugar no ofrecian ni una mesa, pero si ven a un estado unidense pasar hasta alfombra roja le tendian, no entiendo por que en este pasi en esta zona en especial hay tan mal trato a sus propios paisanos.\\ntotalmente desagradable mi experiencia en este hotel. nada recomendable si eres de mexico.\\nY NO HAY PLAYA COMO LO DICE EN INTERNET. TE TIENEN QUE TRASLADAR A EL OTRO HOTEL PARA ESO.....  \n",
       "2                                                                                                                                                                                                                                                                                                                                                                                                                                                                                                                                                                                                                                                                                                                                                                         El personal de recepción es grosero y desinteresado. Pero las camareras, camareros y todo el personal era fabuloso. El hotel es precioso, pero las instalaciones y accesorios se caen a pedazos como es la Habana. Necesidades de un millón de dólares para poner justo. Mi limpieza Carlos era genial y me dejaron toallas modelos cada día. me hubiera gustado ver fotos de. Los coches clásicos, ver en fotos son un mito. Son realmente cubos de óxido. Cuba es el lugar más caro que he visitado. Ten cuidado. Todo cuesta!!!.  Incluso lindas fotos si trad vestidas con gente en la calle a tomar fotos.estoy casi 60 y nunca volver de nuevo en mi vida porque le llevará 10 años y miles de millones de dólares para restaurar esta ciudad beautifil  \n",
       "3                                                                                                                                                                                                                                                                                                                                                                                                                                                                                                                                                                                                                                                                                                                                                                                                                                                                                                                                                                                                                                                                                                                                                                                                                                                                                                                                                                                            Me pareció muy simple y limitado en su oferta de productos. No se veía limpio.Lo que ahí se veía se encuentra en cualquier parte del país.  \n",
       "4                                                                                                                                                                                                                                                                                                                                                                                                                                                                                                                                                                                                                                                                                                                                                                                                                                                                                                                                                                                                                                                                                                                                                                                                          Un hotel agradable con una buena ubicación para recorrer el Centro Histórico de Puebla sin tener que usar el vehículo. Le hace falta un servicio de café de cortesía y la alberca es muy pequeña, pero nos funcionó muy bien para conocer algunos museos, iglesias y sitios de interés sin tener que hacer uso del vehículo.  \n",
       "1                                                                                                                                                                                                                                                                                                                                                                                                                                                                                                                                                                                                                                                                                                                                                                                                                        Cartagena encanta. De todas las ciudades coloniales que hemos visitado es la más linda y mejor conservada. Recomiendo recorrerla tanto de día como de noche ya que son visiones distintas que vale la pena vivir. Llena de vida, tiendas, restaurantes, colorida, vibrante, calles y rincones que en cada momento guardan una sorpresa. Mi calificación habría sido excelente sino fuera por algunos detalles que deberían mejorar. Lamentablemente falta preocupación por la limpieza de las calles (problema que se repite en el resto de la ciudad) y un mejoramiento en los alcantarillados de las aguas servidas. Además por la estrechez de las calles deberían habilitar vías exclusivas para peatones.  "
      ]
     },
     "execution_count": 56,
     "metadata": {},
     "output_type": "execute_result"
    }
   ],
   "source": [
    "clases_muestra = df_etiquetado['Class'].unique()\n",
    "comentarios_muestra = []\n",
    "for clase in clases_muestra:\n",
    "    comentario = df_etiquetado[df_etiquetado['Class'] == clase]['Review'].iloc[1]\n",
    "    comentarios_muestra.append(comentario)\n",
    "tabla_muestra = pd.DataFrame({'Clase': clases_muestra, 'Comentario': comentarios_muestra})\n",
    "tabla_muestra.sort_values('Clase', inplace=True)\n",
    "\n",
    "tabla_muestra"
   ]
  },
  {
   "cell_type": "markdown",
   "metadata": {},
   "source": [
    "Se observan problemas discutidos a lo largo del cuaderno, como lo son comentarios con una connotación pero que usa palabras de la connotación contraria. Aun así, por dicho elemento se sugiere la revisión de un operador como medida de asegfuramiento e incluso de alimentación continua del modelo si este se presa a seguir entrenándolo, ya que, una conclusión que se observa a lo largo del cuaderno es que a mayor número de datos de entrenamiento, mayores métricas de clasificación obtienen los modelos, por lo que el entrenamiento continuo del modelo reuslta útil para obtener los objetivos de negocio, asunto discutido en los resultados del documento anexo."
   ]
  },
  {
   "cell_type": "markdown",
   "metadata": {},
   "source": [
    "### Exportación a la carpeta 'result'"
   ]
  },
  {
   "cell_type": "markdown",
   "metadata": {},
   "source": [
    "Por último, se guarda el resultado de las reseñas eqtiquetadas en la carpeta 'result' para su revisión."
   ]
  },
  {
   "cell_type": "code",
   "execution_count": 57,
   "metadata": {},
   "outputs": [],
   "source": [
    "df_etiquetado.to_csv('./result/particion_etiquetado.csv', sep=';', index=False)"
   ]
  }
 ],
 "metadata": {
  "kernelspec": {
   "display_name": "Python 3 (ipykernel)",
   "language": "python",
   "name": "python3"
  },
  "language_info": {
   "codemirror_mode": {
    "name": "ipython",
    "version": 3
   },
   "file_extension": ".py",
   "mimetype": "text/x-python",
   "name": "python",
   "nbconvert_exporter": "python",
   "pygments_lexer": "ipython3",
   "version": "3.11.4"
  }
 },
 "nbformat": 4,
 "nbformat_minor": 2
}
